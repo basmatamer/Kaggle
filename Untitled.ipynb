{
 "cells": [
  {
   "cell_type": "code",
   "execution_count": null,
   "metadata": {},
   "outputs": [
    {
     "name": "stderr",
     "output_type": "stream",
     "text": [
      "Using TensorFlow backend.\n"
     ]
    }
   ],
   "source": [
    "import numpy as np \n",
    "import pandas as pd \n",
    "\n",
    "import random as rn\n",
    "\n",
    "import matplotlib.pyplot as plt\n",
    "import matplotlib.image as mpimg\n",
    "import seaborn as sns\n",
    "%matplotlib inline\n",
    "\n",
    "from sklearn.preprocessing import LabelEncoder\n",
    "from sklearn.metrics import confusion_matrix, classification_report, accuracy_score\n",
    "from sklearn.model_selection import train_test_split\n",
    "from sklearn.model_selection import cross_val_score, KFold \n",
    "from sklearn.model_selection import RandomizedSearchCV, GridSearchCV\n",
    "from sklearn.preprocessing import StandardScaler\n",
    "from sklearn.pipeline import Pipeline\n",
    "from sklearn.metrics import roc_curve, auc\n",
    "\n",
    "from scipy.stats import uniform\n",
    "import sklearn.ensemble\n",
    "import itertools\n",
    "\n",
    "import warnings\n",
    "from sklearn.exceptions import ConvergenceWarning\n",
    "warnings.filterwarnings(\"ignore\", category=ConvergenceWarning)\n",
    "\n",
    "from keras.utils.np_utils import to_categorical\n",
    "from keras.utils import np_utils\n",
    "\n",
    "from keras.models import Sequential\n",
    "from keras.layers import Dense, Dropout, Flatten\n",
    "from keras.layers import Conv2D, MaxPooling2D, MaxPool2D, Conv1D\n",
    "from keras.layers import AvgPool2D, BatchNormalization, Reshape\n",
    "from keras.optimizers import Adadelta, RMSprop, Adam\n",
    "from keras.losses import categorical_crossentropy\n",
    "from keras.wrappers.scikit_learn import KerasClassifier\n",
    "\n",
    "from sklearn.linear_model import LogisticRegression\n",
    "from sklearn.ensemble import RandomForestClassifier\n",
    "from sklearn.neighbors import KNeighborsClassifier\n",
    "from sklearn.naive_bayes import GaussianNB\n",
    "from sklearn.tree import DecisionTreeClassifier\n",
    "\n",
    "import tensorflow as tf\n",
    "\n",
    "import os\n"
   ]
  },
  {
   "cell_type": "code",
   "execution_count": 1,
   "metadata": {},
   "outputs": [
    {
     "ename": "NameError",
     "evalue": "name 'pd' is not defined",
     "output_type": "error",
     "traceback": [
      "\u001b[1;31m---------------------------------------------------------------------------\u001b[0m",
      "\u001b[1;31mNameError\u001b[0m                                 Traceback (most recent call last)",
      "\u001b[1;32m<ipython-input-1-dd3c6ada0900>\u001b[0m in \u001b[0;36m<module>\u001b[1;34m()\u001b[0m\n\u001b[1;32m----> 1\u001b[1;33m \u001b[0mdata\u001b[0m \u001b[1;33m=\u001b[0m \u001b[0mpd\u001b[0m\u001b[1;33m.\u001b[0m\u001b[0mread_csv\u001b[0m\u001b[1;33m(\u001b[0m\u001b[1;34m'harddrives.csv'\u001b[0m\u001b[1;33m)\u001b[0m\u001b[1;33m\u001b[0m\u001b[0m\n\u001b[0m\u001b[0;32m      2\u001b[0m \u001b[0mprint\u001b[0m\u001b[1;33m(\u001b[0m\u001b[0mdata\u001b[0m\u001b[1;33m.\u001b[0m\u001b[0mshape\u001b[0m\u001b[1;33m)\u001b[0m\u001b[1;33m\u001b[0m\u001b[0m\n\u001b[0;32m      3\u001b[0m \u001b[1;33m\u001b[0m\u001b[0m\n\u001b[0;32m      4\u001b[0m \u001b[1;33m\u001b[0m\u001b[0m\n\u001b[0;32m      5\u001b[0m \u001b[0mdata\u001b[0m\u001b[1;33m.\u001b[0m\u001b[0mhead\u001b[0m\u001b[1;33m(\u001b[0m\u001b[1;36m5\u001b[0m\u001b[1;33m)\u001b[0m\u001b[1;33m\u001b[0m\u001b[0m\n",
      "\u001b[1;31mNameError\u001b[0m: name 'pd' is not defined"
     ]
    }
   ],
   "source": [
    "\n",
    "data = pd.read_csv('train.csv')\n",
    "print(data.shape)\n",
    "\n",
    "data= data.drop(\"PassengerId\", axis=1)\n",
    "data= data.drop(\"Ticket\", axis=1)\n",
    "\n",
    "\n",
    "data.head(5)"
   ]
  },
  {
   "cell_type": "code",
   "execution_count": 3,
   "metadata": {},
   "outputs": [
    {
     "name": "stdout",
     "output_type": "stream",
     "text": [
      "Survived      0\n",
      "Pclass        0\n",
      "Name          0\n",
      "Sex           0\n",
      "Age         177\n",
      "SibSp         0\n",
      "Parch         0\n",
      "Fare          0\n",
      "Cabin       687\n",
      "Embarked      2\n",
      "dtype: int64\n",
      "         Survived      Pclass         Age       SibSp       Parch        Fare\n",
      "count  891.000000  891.000000  714.000000  891.000000  891.000000  891.000000\n",
      "mean     0.383838    2.308642   29.699118    0.523008    0.381594   32.204208\n",
      "std      0.486592    0.836071   14.526497    1.102743    0.806057   49.693429\n",
      "min      0.000000    1.000000    0.420000    0.000000    0.000000    0.000000\n",
      "25%      0.000000    2.000000   20.125000    0.000000    0.000000    7.910400\n",
      "50%      0.000000    3.000000   28.000000    0.000000    0.000000   14.454200\n",
      "75%      1.000000    3.000000   38.000000    1.000000    0.000000   31.000000\n",
      "max      1.000000    3.000000   80.000000    8.000000    6.000000  512.329200\n"
     ]
    }
   ],
   "source": [
    "print(data.isnull().sum())\n",
    "\n",
    "print(data.describe())"
   ]
  },
  {
   "cell_type": "code",
   "execution_count": 4,
   "metadata": {},
   "outputs": [
    {
     "name": "stdout",
     "output_type": "stream",
     "text": [
      "3    491\n",
      "1    216\n",
      "2    184\n",
      "Name: Pclass, dtype: int64\n"
     ]
    },
    {
     "data": {
      "image/png": "[encoded data removed]",
      "text/plain": [
       "<matplotlib.figure.Figure at 0x8f0aa03198>"
      ]
     },
     "metadata": {},
     "output_type": "display_data"
    }
   ],
   "source": [
    "# Explore Pclass vs Survived\n",
    "g = sns.factorplot(x=\"Pclass\",y=\"Survived\",data=data,kind=\"bar\", size = 6 )\n",
    "g.despine(left=True)\n",
    "g = g.set_ylabels(\"survival probability\")\n",
    "\n",
    "\n",
    "print(data['Pclass'].value_counts())\n",
    "\n"
   ]
  },
  {
   "cell_type": "markdown",
   "metadata": {},
   "source": [
    "#### Most common is 3, therefore replace NA with 3. the higher the class (smaller number), the higher the probability of survival."
   ]
  },
  {
   "cell_type": "code",
   "execution_count": 5,
   "metadata": {},
   "outputs": [
    {
     "name": "stdout",
     "output_type": "stream",
     "text": [
      "Mr      558\n",
      "Ms      185\n",
      "Mrs     126\n",
      "Rare     22\n",
      "Name: Title, dtype: int64\n"
     ]
    },
    {
     "data": {
      "image/png": "[encoded data removed]",
      "text/plain": [
       "<matplotlib.figure.Figure at 0x8f0cb3df28>"
      ]
     },
     "metadata": {},
     "output_type": "display_data"
    }
   ],
   "source": [
    "# Get Title from Name\n",
    "dataset_title = [i.split(\",\")[1].split(\".\")[0].strip() for i in data[\"Name\"]]\n",
    "data[\"Title\"] = pd.Series(dataset_title)\n",
    "\n",
    "\n",
    "\n",
    "#merge similiar titles\n",
    "data[\"Title\"] = data[\"Title\"].replace(['Miss', 'Mlle'], 'Ms')\n",
    "data[\"Title\"] = data[\"Title\"].replace(['Mme', 'Mlle'], 'Mrs')\n",
    "data[\"Title\"] = data[\"Title\"].replace(['Master', 'Sir'], 'Mr')\n",
    "data[\"Title\"] = data[\"Title\"].replace(['Lady', 'the Countess','Countess','Capt', 'Col','Don', 'Dr', 'Major', 'Rev', 'Sir', 'Jonkheer', 'Dona'], 'Rare')\n",
    "\n",
    "print(data['Title'].value_counts())\n",
    "\n",
    "g = sns.factorplot(x=\"Title\",y=\"Survived\",data=data,kind=\"bar\")\n",
    "# g = g.set_xticklabels([\"Ms\",\"Mr\",\"Mr\",\"Rare\"])\n",
    "g = g.set_ylabels(\"survival probability\")\n",
    "\n",
    "data['Title'].replace( 'Ms',0,inplace=True)\n",
    "data['Title'].replace( 'Mr',1,inplace=True)\n",
    "data['Title'].replace( 'Mrs',2,inplace=True)\n",
    "data['Title'].replace( 'Rare',3,inplace=True)\n",
    "\n",
    "data= data.drop(\"Name\", axis=1)\n",
    "\n"
   ]
  },
  {
   "cell_type": "markdown",
   "metadata": {},
   "source": [
    "#### Most common is Mr, therefore replace NA with Mr. most of the surviors were women."
   ]
  },
  {
   "cell_type": "code",
   "execution_count": 6,
   "metadata": {},
   "outputs": [
    {
     "name": "stdout",
     "output_type": "stream",
     "text": [
      "male      577\n",
      "female    314\n",
      "Name: Sex, dtype: int64\n"
     ]
    },
    {
     "data": {
      "image/png": "[encoded data removed]",
      "text/plain": [
       "<matplotlib.figure.Figure at 0x8f0caaa9e8>"
      ]
     },
     "metadata": {},
     "output_type": "display_data"
    }
   ],
   "source": [
    "print(data['Sex'].value_counts())\n",
    "\n",
    "data['Sex'].replace( 'female',1,inplace=True)\n",
    "data['Sex'].replace( 'male',0,inplace=True)\n",
    "\n",
    "g = sns.barplot(x=\"Sex\",y=\"Survived\",data=data)\n",
    "g = g.set_ylabel(\"Survival Probability\")"
   ]
  },
  {
   "cell_type": "markdown",
   "metadata": {},
   "source": [
    "#### Most common is Male, therefore replace NA with Male. most of the surviors were women."
   ]
  },
  {
   "cell_type": "code",
   "execution_count": 7,
   "metadata": {},
   "outputs": [
    {
     "data": {
      "image/png": "[encoded data removed]",
      "text/plain": [
       "<matplotlib.figure.Figure at 0x8f0cb3f198>"
      ]
     },
     "metadata": {},
     "output_type": "display_data"
    }
   ],
   "source": [
    "# Explore Age vs Survived\n",
    "g = sns.FacetGrid(data, col='Survived')\n",
    "g = g.map(sns.distplot, \"Age\")\n",
    "\n",
    "ages = dict([(n, int(0)) for n in range(0, 18)] +\n",
    "            [(n, int(1)) for n in range(18, 35)] +\n",
    "            [(n, int(2)) for n in range(35, 50)] +\n",
    "            [(n, int(3)) for n in range(50, 70)] +\n",
    "            [(n, int(4)) for n in range(70, 1000)] )\n",
    "data['Age'] = data['Age'].apply(ages.get)\n",
    "\n",
    "# g = sns.FacetGrid(data, col='Survived')\n",
    "# g = g.map(sns.distplot, \"Age\")\n",
    "\n",
    "# meanAge= data[['Age']].mean()\n",
    "# print(meanAge)\n",
    "\n",
    "data[\"Age\"] = data[\"Age\"].fillna(data[\"Age\"].median())\n"
   ]
  },
  {
   "cell_type": "code",
   "execution_count": 8,
   "metadata": {},
   "outputs": [
    {
     "name": "stdout",
     "output_type": "stream",
     "text": [
      "0 6\n"
     ]
    },
    {
     "data": {
      "image/png": "[encoded data removed]",
      "text/plain": [
       "<matplotlib.figure.Figure at 0x8f0cb4e828>"
      ]
     },
     "metadata": {},
     "output_type": "display_data"
    },
    {
     "data": {
      "image/png": "[encoded data removed]",
      "text/plain": [
       "<matplotlib.figure.Figure at 0x8f0cc9d518>"
      ]
     },
     "metadata": {},
     "output_type": "display_data"
    }
   ],
   "source": [
    "#Fill Fare missing values with the median value\n",
    "data[\"Fare\"] = data[\"Fare\"].fillna(data[\"Fare\"].median())\n",
    "\n",
    "\n",
    "g = sns.distplot(data[\"Fare\"], color=\"m\", label=\"Skewness : %.2f\"%(data[\"Fare\"].skew()))\n",
    "g = g.legend(loc=\"best\")\n",
    "\n",
    "data[\"Fare\"] = data[\"Fare\"].map(lambda i: np.log(i) if i > 0 else 0)\n",
    "g = sns.distplot(data[\"Fare\"], color=\"b\", label=\"Skewness : %.2f\"%(data[\"Fare\"].skew()))\n",
    "g = g.legend(loc=\"best\")\n",
    "\n",
    "\n",
    "g = sns.FacetGrid(data, col='Survived')\n",
    "g = g.map(sns.distplot, \"Fare\")\n",
    "data[\"Fare\"] = data[\"Fare\"].astype(int)\n",
    "\n",
    "print(data[\"Fare\"].min(),data[\"Fare\"].max())\n",
    "fares = dict([(n, int(0)) for n in range(0, 2)] +\n",
    "            [(n, int(1)) for n in range(2, 4)] +\n",
    "            [(n, int(2)) for n in range(4,7)] )\n",
    "data['Fare'] = data['Fare'].apply(fares.get)\n",
    "\n"
   ]
  },
  {
   "cell_type": "code",
   "execution_count": 9,
   "metadata": {},
   "outputs": [
    {
     "name": "stdout",
     "output_type": "stream",
     "text": [
      "0.0    644\n",
      "1.0    168\n",
      "2.0     77\n",
      "Name: Embarked, dtype: int64\n"
     ]
    }
   ],
   "source": [
    "data['Embarked'].replace( 'S',0,inplace=True)\n",
    "data['Embarked'].replace( 'C',1,inplace=True)\n",
    "data['Embarked'].replace( 'Q',2,inplace=True)\n",
    "\n",
    "print(data['Embarked'].value_counts())\n",
    "data[\"Embarked\"] = data[\"Embarked\"].fillna(0)"
   ]
  },
  {
   "cell_type": "code",
   "execution_count": 10,
   "metadata": {},
   "outputs": [
    {
     "data": {
      "image/png": "[encoded data removed]",
      "text/plain": [
       "<matplotlib.figure.Figure at 0x8f0ccc9ac8>"
      ]
     },
     "metadata": {},
     "output_type": "display_data"
    }
   ],
   "source": [
    "# Replace the Cabin number by the type of cabin 'X' if not\n",
    "data[\"Cabin\"] = pd.Series([i[0] if not pd.isnull(i) else 'X' for i in data['Cabin'] ])\n",
    "\n",
    "\n",
    "data['Cabin'].replace( 'A',0,inplace=True)\n",
    "data['Cabin'].replace( 'B',1,inplace=True)\n",
    "data['Cabin'].replace( 'C',2,inplace=True)\n",
    "data['Cabin'].replace( 'D',3,inplace=True)\n",
    "data['Cabin'].replace( 'E',4,inplace=True)\n",
    "data['Cabin'].replace( 'F',5,inplace=True)\n",
    "data['Cabin'].replace( 'G',6,inplace=True)\n",
    "data['Cabin'].replace( 'T',7,inplace=True)\n",
    "data['Cabin'].replace( 'X',8,inplace=True)\n",
    "\n",
    "g = sns.factorplot(y=\"Survived\",x=\"Cabin\",data=data,kind=\"bar\")\n",
    "g = g.set_ylabels(\"Survival Probability\")\n",
    "\n",
    "\n"
   ]
  },
  {
   "cell_type": "code",
   "execution_count": 11,
   "metadata": {},
   "outputs": [
    {
     "name": "stdout",
     "output_type": "stream",
     "text": [
      "Survived    0\n",
      "Pclass      0\n",
      "Sex         0\n",
      "Age         0\n",
      "SibSp       0\n",
      "Parch       0\n",
      "Fare        0\n",
      "Cabin       0\n",
      "Embarked    0\n",
      "Title       0\n",
      "dtype: int64\n"
     ]
    },
    {
     "data": {
      "text/html": [
       "<div>\n",
       "<style scoped>\n",
       "    .dataframe tbody tr th:only-of-type {\n",
       "        vertical-align: middle;\n",
       "    }\n",
       "\n",
       "    .dataframe tbody tr th {\n",
       "        vertical-align: top;\n",
       "    }\n",
       "\n",
       "    .dataframe thead th {\n",
       "        text-align: right;\n",
       "    }\n",
       "</style>\n",
       "<table border=\"1\" class=\"dataframe\">\n",
       "  <thead>\n",
       "    <tr style=\"text-align: right;\">\n",
       "      <th></th>\n",
       "      <th>Survived</th>\n",
       "      <th>Pclass</th>\n",
       "      <th>Sex</th>\n",
       "      <th>Age</th>\n",
       "      <th>SibSp</th>\n",
       "      <th>Parch</th>\n",
       "      <th>Fare</th>\n",
       "      <th>Cabin</th>\n",
       "      <th>Embarked</th>\n",
       "      <th>Title</th>\n",
       "    </tr>\n",
       "  </thead>\n",
       "  <tbody>\n",
       "    <tr>\n",
       "      <th>0</th>\n",
       "      <td>0</td>\n",
       "      <td>3</td>\n",
       "      <td>0</td>\n",
       "      <td>1.0</td>\n",
       "      <td>1</td>\n",
       "      <td>0</td>\n",
       "      <td>0</td>\n",
       "      <td>8</td>\n",
       "      <td>0.0</td>\n",
       "      <td>1</td>\n",
       "    </tr>\n",
       "    <tr>\n",
       "      <th>1</th>\n",
       "      <td>1</td>\n",
       "      <td>1</td>\n",
       "      <td>1</td>\n",
       "      <td>2.0</td>\n",
       "      <td>1</td>\n",
       "      <td>0</td>\n",
       "      <td>2</td>\n",
       "      <td>2</td>\n",
       "      <td>1.0</td>\n",
       "      <td>2</td>\n",
       "    </tr>\n",
       "    <tr>\n",
       "      <th>2</th>\n",
       "      <td>1</td>\n",
       "      <td>3</td>\n",
       "      <td>1</td>\n",
       "      <td>1.0</td>\n",
       "      <td>0</td>\n",
       "      <td>0</td>\n",
       "      <td>1</td>\n",
       "      <td>8</td>\n",
       "      <td>0.0</td>\n",
       "      <td>0</td>\n",
       "    </tr>\n",
       "    <tr>\n",
       "      <th>3</th>\n",
       "      <td>1</td>\n",
       "      <td>1</td>\n",
       "      <td>1</td>\n",
       "      <td>2.0</td>\n",
       "      <td>1</td>\n",
       "      <td>0</td>\n",
       "      <td>1</td>\n",
       "      <td>2</td>\n",
       "      <td>0.0</td>\n",
       "      <td>2</td>\n",
       "    </tr>\n",
       "    <tr>\n",
       "      <th>4</th>\n",
       "      <td>0</td>\n",
       "      <td>3</td>\n",
       "      <td>0</td>\n",
       "      <td>2.0</td>\n",
       "      <td>0</td>\n",
       "      <td>0</td>\n",
       "      <td>1</td>\n",
       "      <td>8</td>\n",
       "      <td>0.0</td>\n",
       "      <td>1</td>\n",
       "    </tr>\n",
       "    <tr>\n",
       "      <th>5</th>\n",
       "      <td>0</td>\n",
       "      <td>3</td>\n",
       "      <td>0</td>\n",
       "      <td>1.0</td>\n",
       "      <td>0</td>\n",
       "      <td>0</td>\n",
       "      <td>1</td>\n",
       "      <td>8</td>\n",
       "      <td>2.0</td>\n",
       "      <td>1</td>\n",
       "    </tr>\n",
       "    <tr>\n",
       "      <th>6</th>\n",
       "      <td>0</td>\n",
       "      <td>1</td>\n",
       "      <td>0</td>\n",
       "      <td>3.0</td>\n",
       "      <td>0</td>\n",
       "      <td>0</td>\n",
       "      <td>1</td>\n",
       "      <td>4</td>\n",
       "      <td>0.0</td>\n",
       "      <td>1</td>\n",
       "    </tr>\n",
       "    <tr>\n",
       "      <th>7</th>\n",
       "      <td>0</td>\n",
       "      <td>3</td>\n",
       "      <td>0</td>\n",
       "      <td>0.0</td>\n",
       "      <td>3</td>\n",
       "      <td>1</td>\n",
       "      <td>1</td>\n",
       "      <td>8</td>\n",
       "      <td>0.0</td>\n",
       "      <td>1</td>\n",
       "    </tr>\n",
       "    <tr>\n",
       "      <th>8</th>\n",
       "      <td>1</td>\n",
       "      <td>3</td>\n",
       "      <td>1</td>\n",
       "      <td>1.0</td>\n",
       "      <td>0</td>\n",
       "      <td>2</td>\n",
       "      <td>1</td>\n",
       "      <td>8</td>\n",
       "      <td>0.0</td>\n",
       "      <td>2</td>\n",
       "    </tr>\n",
       "    <tr>\n",
       "      <th>9</th>\n",
       "      <td>1</td>\n",
       "      <td>2</td>\n",
       "      <td>1</td>\n",
       "      <td>0.0</td>\n",
       "      <td>1</td>\n",
       "      <td>0</td>\n",
       "      <td>1</td>\n",
       "      <td>8</td>\n",
       "      <td>1.0</td>\n",
       "      <td>2</td>\n",
       "    </tr>\n",
       "  </tbody>\n",
       "</table>\n",
       "</div>"
      ],
      "text/plain": [
       "   Survived  Pclass  Sex  Age  SibSp  Parch  Fare  Cabin  Embarked  Title\n",
       "0         0       3    0  1.0      1      0     0      8       0.0      1\n",
       "1         1       1    1  2.0      1      0     2      2       1.0      2\n",
       "2         1       3    1  1.0      0      0     1      8       0.0      0\n",
       "3         1       1    1  2.0      1      0     1      2       0.0      2\n",
       "4         0       3    0  2.0      0      0     1      8       0.0      1\n",
       "5         0       3    0  1.0      0      0     1      8       2.0      1\n",
       "6         0       1    0  3.0      0      0     1      4       0.0      1\n",
       "7         0       3    0  0.0      3      1     1      8       0.0      1\n",
       "8         1       3    1  1.0      0      2     1      8       0.0      2\n",
       "9         1       2    1  0.0      1      0     1      8       1.0      2"
      ]
     },
     "execution_count": 11,
     "metadata": {},
     "output_type": "execute_result"
    }
   ],
   "source": [
    "print(data.isnull().sum())\n",
    "\n",
    "X= data.iloc[:,1:]\n",
    "y= data.iloc[:,0] \n",
    "\n",
    "\n",
    "#standardize my data\n",
    "sc = StandardScaler()\n",
    "X = sc.fit_transform(X)\n",
    "\n",
    "#split into training and tessting data\n",
    "X_train, X_test, y_train, y_test = train_test_split(X, y, test_size=0.3)\n",
    "\n",
    "data.head(10)"
   ]
  },
  {
   "cell_type": "code",
   "execution_count": 12,
   "metadata": {},
   "outputs": [
    {
     "data": {
      "text/html": [
       "<div>\n",
       "<style scoped>\n",
       "    .dataframe tbody tr th:only-of-type {\n",
       "        vertical-align: middle;\n",
       "    }\n",
       "\n",
       "    .dataframe tbody tr th {\n",
       "        vertical-align: top;\n",
       "    }\n",
       "\n",
       "    .dataframe thead th {\n",
       "        text-align: right;\n",
       "    }\n",
       "</style>\n",
       "<table border=\"1\" class=\"dataframe\">\n",
       "  <thead>\n",
       "    <tr style=\"text-align: right;\">\n",
       "      <th></th>\n",
       "      <th>Survived</th>\n",
       "      <th>Pclass</th>\n",
       "      <th>Sex</th>\n",
       "      <th>Age</th>\n",
       "      <th>SibSp</th>\n",
       "      <th>Parch</th>\n",
       "      <th>Fare</th>\n",
       "      <th>Cabin</th>\n",
       "      <th>Embarked</th>\n",
       "      <th>Title</th>\n",
       "    </tr>\n",
       "  </thead>\n",
       "  <tbody>\n",
       "    <tr>\n",
       "      <th>Survived</th>\n",
       "      <td>1.000000</td>\n",
       "      <td>-0.338481</td>\n",
       "      <td>0.543351</td>\n",
       "      <td>-0.027290</td>\n",
       "      <td>-0.035322</td>\n",
       "      <td>0.081629</td>\n",
       "      <td>0.301522</td>\n",
       "      <td>-0.301116</td>\n",
       "      <td>0.106811</td>\n",
       "      <td>-0.035334</td>\n",
       "    </tr>\n",
       "    <tr>\n",
       "      <th>Pclass</th>\n",
       "      <td>-0.338481</td>\n",
       "      <td>1.000000</td>\n",
       "      <td>-0.131900</td>\n",
       "      <td>-0.366260</td>\n",
       "      <td>0.083081</td>\n",
       "      <td>0.018443</td>\n",
       "      <td>-0.510905</td>\n",
       "      <td>0.746616</td>\n",
       "      <td>0.045702</td>\n",
       "      <td>-0.157349</td>\n",
       "    </tr>\n",
       "    <tr>\n",
       "      <th>Sex</th>\n",
       "      <td>0.543351</td>\n",
       "      <td>-0.131900</td>\n",
       "      <td>1.000000</td>\n",
       "      <td>-0.060213</td>\n",
       "      <td>0.114631</td>\n",
       "      <td>0.245489</td>\n",
       "      <td>0.254116</td>\n",
       "      <td>-0.123076</td>\n",
       "      <td>0.116569</td>\n",
       "      <td>-0.167564</td>\n",
       "    </tr>\n",
       "    <tr>\n",
       "      <th>Age</th>\n",
       "      <td>-0.027290</td>\n",
       "      <td>-0.366260</td>\n",
       "      <td>-0.060213</td>\n",
       "      <td>1.000000</td>\n",
       "      <td>-0.212012</td>\n",
       "      <td>-0.120070</td>\n",
       "      <td>0.140070</td>\n",
       "      <td>-0.271204</td>\n",
       "      <td>-0.058527</td>\n",
       "      <td>0.304325</td>\n",
       "    </tr>\n",
       "    <tr>\n",
       "      <th>SibSp</th>\n",
       "      <td>-0.035322</td>\n",
       "      <td>0.083081</td>\n",
       "      <td>0.114631</td>\n",
       "      <td>-0.212012</td>\n",
       "      <td>1.000000</td>\n",
       "      <td>0.414838</td>\n",
       "      <td>0.206737</td>\n",
       "      <td>0.041540</td>\n",
       "      <td>-0.059961</td>\n",
       "      <td>-0.032203</td>\n",
       "    </tr>\n",
       "    <tr>\n",
       "      <th>Parch</th>\n",
       "      <td>0.081629</td>\n",
       "      <td>0.018443</td>\n",
       "      <td>0.245489</td>\n",
       "      <td>-0.120070</td>\n",
       "      <td>0.414838</td>\n",
       "      <td>1.000000</td>\n",
       "      <td>0.176787</td>\n",
       "      <td>-0.032548</td>\n",
       "      <td>-0.078665</td>\n",
       "      <td>0.028580</td>\n",
       "    </tr>\n",
       "    <tr>\n",
       "      <th>Fare</th>\n",
       "      <td>0.301522</td>\n",
       "      <td>-0.510905</td>\n",
       "      <td>0.254116</td>\n",
       "      <td>0.140070</td>\n",
       "      <td>0.206737</td>\n",
       "      <td>0.176787</td>\n",
       "      <td>1.000000</td>\n",
       "      <td>-0.475932</td>\n",
       "      <td>0.026230</td>\n",
       "      <td>-0.000136</td>\n",
       "    </tr>\n",
       "    <tr>\n",
       "      <th>Cabin</th>\n",
       "      <td>-0.301116</td>\n",
       "      <td>0.746616</td>\n",
       "      <td>-0.123076</td>\n",
       "      <td>-0.271204</td>\n",
       "      <td>0.041540</td>\n",
       "      <td>-0.032548</td>\n",
       "      <td>-0.475932</td>\n",
       "      <td>1.000000</td>\n",
       "      <td>-0.034887</td>\n",
       "      <td>-0.079990</td>\n",
       "    </tr>\n",
       "    <tr>\n",
       "      <th>Embarked</th>\n",
       "      <td>0.106811</td>\n",
       "      <td>0.045702</td>\n",
       "      <td>0.116569</td>\n",
       "      <td>-0.058527</td>\n",
       "      <td>-0.059961</td>\n",
       "      <td>-0.078665</td>\n",
       "      <td>0.026230</td>\n",
       "      <td>-0.034887</td>\n",
       "      <td>1.000000</td>\n",
       "      <td>-0.117721</td>\n",
       "    </tr>\n",
       "    <tr>\n",
       "      <th>Title</th>\n",
       "      <td>-0.035334</td>\n",
       "      <td>-0.157349</td>\n",
       "      <td>-0.167564</td>\n",
       "      <td>0.304325</td>\n",
       "      <td>-0.032203</td>\n",
       "      <td>0.028580</td>\n",
       "      <td>-0.000136</td>\n",
       "      <td>-0.079990</td>\n",
       "      <td>-0.117721</td>\n",
       "      <td>1.000000</td>\n",
       "    </tr>\n",
       "  </tbody>\n",
       "</table>\n",
       "</div>"
      ],
      "text/plain": [
       "          Survived    Pclass       Sex       Age     SibSp     Parch  \\\n",
       "Survived  1.000000 -0.338481  0.543351 -0.027290 -0.035322  0.081629   \n",
       "Pclass   -0.338481  1.000000 -0.131900 -0.366260  0.083081  0.018443   \n",
       "Sex       0.543351 -0.131900  1.000000 -0.060213  0.114631  0.245489   \n",
       "Age      -0.027290 -0.366260 -0.060213  1.000000 -0.212012 -0.120070   \n",
       "SibSp    -0.035322  0.083081  0.114631 -0.212012  1.000000  0.414838   \n",
       "Parch     0.081629  0.018443  0.245489 -0.120070  0.414838  1.000000   \n",
       "Fare      0.301522 -0.510905  0.254116  0.140070  0.206737  0.176787   \n",
       "Cabin    -0.301116  0.746616 -0.123076 -0.271204  0.041540 -0.032548   \n",
       "Embarked  0.106811  0.045702  0.116569 -0.058527 -0.059961 -0.078665   \n",
       "Title    -0.035334 -0.157349 -0.167564  0.304325 -0.032203  0.028580   \n",
       "\n",
       "              Fare     Cabin  Embarked     Title  \n",
       "Survived  0.301522 -0.301116  0.106811 -0.035334  \n",
       "Pclass   -0.510905  0.746616  0.045702 -0.157349  \n",
       "Sex       0.254116 -0.123076  0.116569 -0.167564  \n",
       "Age       0.140070 -0.271204 -0.058527  0.304325  \n",
       "SibSp     0.206737  0.041540 -0.059961 -0.032203  \n",
       "Parch     0.176787 -0.032548 -0.078665  0.028580  \n",
       "Fare      1.000000 -0.475932  0.026230 -0.000136  \n",
       "Cabin    -0.475932  1.000000 -0.034887 -0.079990  \n",
       "Embarked  0.026230 -0.034887  1.000000 -0.117721  \n",
       "Title    -0.000136 -0.079990 -0.117721  1.000000  "
      ]
     },
     "execution_count": 12,
     "metadata": {},
     "output_type": "execute_result"
    },
    {
     "data": {
      "image/png": "[encoded data removed]",
      "text/plain": [
       "<matplotlib.figure.Figure at 0x8f0caaa0f0>"
      ]
     },
     "metadata": {},
     "output_type": "display_data"
    }
   ],
   "source": [
    "fig, ax = plt.subplots(figsize=(10,10))  \n",
    "sns.heatmap(data.corr(), annot=True, linewidths=.5, ax=ax)\n",
    "\n",
    "data.corr()\n"
   ]
  },
  {
   "cell_type": "markdown",
   "metadata": {},
   "source": [
    "#### Multiple Models"
   ]
  },
  {
   "cell_type": "code",
   "execution_count": 13,
   "metadata": {},
   "outputs": [
    {
     "name": "stderr",
     "output_type": "stream",
     "text": [
      "E:\\py\\envs\\tf-keras\\lib\\site-packages\\sklearn\\utils\\deprecation.py:122: FutureWarning: You are accessing a training score ('train_score'), which will not be available by default any more in 0.21. If you need training scores, please set return_train_score=True\n",
      "  warnings.warn(*warn_args, **warn_kwargs)\n",
      "E:\\py\\envs\\tf-keras\\lib\\site-packages\\ipykernel_launcher.py:78: SettingWithCopyWarning: \n",
      "A value is trying to be set on a copy of a slice from a DataFrame\n",
      "\n",
      "See the caveats in the documentation: http://pandas.pydata.org/pandas-docs/stable/indexing.html#indexing-view-versus-copy\n",
      "E:\\py\\envs\\tf-keras\\lib\\site-packages\\sklearn\\utils\\deprecation.py:122: FutureWarning: You are accessing a training score ('train_score'), which will not be available by default any more in 0.21. If you need training scores, please set return_train_score=True\n",
      "  warnings.warn(*warn_args, **warn_kwargs)\n",
      "E:\\py\\envs\\tf-keras\\lib\\site-packages\\sklearn\\utils\\deprecation.py:122: FutureWarning: You are accessing a training score ('train_score'), which will not be available by default any more in 0.21. If you need training scores, please set return_train_score=True\n",
      "  warnings.warn(*warn_args, **warn_kwargs)\n",
      "E:\\py\\envs\\tf-keras\\lib\\site-packages\\sklearn\\utils\\deprecation.py:122: FutureWarning: You are accessing a training score ('train_score'), which will not be available by default any more in 0.21. If you need training scores, please set return_train_score=True\n",
      "  warnings.warn(*warn_args, **warn_kwargs)\n",
      "E:\\py\\envs\\tf-keras\\lib\\site-packages\\sklearn\\utils\\deprecation.py:122: FutureWarning: You are accessing a training score ('train_score'), which will not be available by default any more in 0.21. If you need training scores, please set return_train_score=True\n",
      "  warnings.warn(*warn_args, **warn_kwargs)\n",
      "E:\\py\\envs\\tf-keras\\lib\\site-packages\\sklearn\\utils\\deprecation.py:122: FutureWarning: You are accessing a training score ('train_score'), which will not be available by default any more in 0.21. If you need training scores, please set return_train_score=True\n",
      "  warnings.warn(*warn_args, **warn_kwargs)\n",
      "E:\\py\\envs\\tf-keras\\lib\\site-packages\\sklearn\\utils\\deprecation.py:122: FutureWarning: You are accessing a training score ('train_score'), which will not be available by default any more in 0.21. If you need training scores, please set return_train_score=True\n",
      "  warnings.warn(*warn_args, **warn_kwargs)\n",
      "E:\\py\\envs\\tf-keras\\lib\\site-packages\\sklearn\\linear_model\\stochastic_gradient.py:128: FutureWarning: max_iter and tol parameters have been added in <class 'sklearn.linear_model.passive_aggressive.PassiveAggressiveClassifier'> in 0.19. If both are left unset, they default to max_iter=5 and tol=None. If tol is not None, max_iter defaults to max_iter=1000. From 0.21, default max_iter will be 1000, and default tol will be 1e-3.\n",
      "  \"and default tol will be 1e-3.\" % type(self), FutureWarning)\n",
      "E:\\py\\envs\\tf-keras\\lib\\site-packages\\sklearn\\linear_model\\stochastic_gradient.py:128: FutureWarning: max_iter and tol parameters have been added in <class 'sklearn.linear_model.passive_aggressive.PassiveAggressiveClassifier'> in 0.19. If both are left unset, they default to max_iter=5 and tol=None. If tol is not None, max_iter defaults to max_iter=1000. From 0.21, default max_iter will be 1000, and default tol will be 1e-3.\n",
      "  \"and default tol will be 1e-3.\" % type(self), FutureWarning)\n",
      "E:\\py\\envs\\tf-keras\\lib\\site-packages\\sklearn\\linear_model\\stochastic_gradient.py:128: FutureWarning: max_iter and tol parameters have been added in <class 'sklearn.linear_model.passive_aggressive.PassiveAggressiveClassifier'> in 0.19. If both are left unset, they default to max_iter=5 and tol=None. If tol is not None, max_iter defaults to max_iter=1000. From 0.21, default max_iter will be 1000, and default tol will be 1e-3.\n",
      "  \"and default tol will be 1e-3.\" % type(self), FutureWarning)\n",
      "E:\\py\\envs\\tf-keras\\lib\\site-packages\\sklearn\\linear_model\\stochastic_gradient.py:128: FutureWarning: max_iter and tol parameters have been added in <class 'sklearn.linear_model.passive_aggressive.PassiveAggressiveClassifier'> in 0.19. If both are left unset, they default to max_iter=5 and tol=None. If tol is not None, max_iter defaults to max_iter=1000. From 0.21, default max_iter will be 1000, and default tol will be 1e-3.\n",
      "  \"and default tol will be 1e-3.\" % type(self), FutureWarning)\n",
      "E:\\py\\envs\\tf-keras\\lib\\site-packages\\sklearn\\linear_model\\stochastic_gradient.py:128: FutureWarning: max_iter and tol parameters have been added in <class 'sklearn.linear_model.passive_aggressive.PassiveAggressiveClassifier'> in 0.19. If both are left unset, they default to max_iter=5 and tol=None. If tol is not None, max_iter defaults to max_iter=1000. From 0.21, default max_iter will be 1000, and default tol will be 1e-3.\n",
      "  \"and default tol will be 1e-3.\" % type(self), FutureWarning)\n",
      "E:\\py\\envs\\tf-keras\\lib\\site-packages\\sklearn\\linear_model\\stochastic_gradient.py:128: FutureWarning: max_iter and tol parameters have been added in <class 'sklearn.linear_model.passive_aggressive.PassiveAggressiveClassifier'> in 0.19. If both are left unset, they default to max_iter=5 and tol=None. If tol is not None, max_iter defaults to max_iter=1000. From 0.21, default max_iter will be 1000, and default tol will be 1e-3.\n",
      "  \"and default tol will be 1e-3.\" % type(self), FutureWarning)\n",
      "E:\\py\\envs\\tf-keras\\lib\\site-packages\\sklearn\\linear_model\\stochastic_gradient.py:128: FutureWarning: max_iter and tol parameters have been added in <class 'sklearn.linear_model.passive_aggressive.PassiveAggressiveClassifier'> in 0.19. If both are left unset, they default to max_iter=5 and tol=None. If tol is not None, max_iter defaults to max_iter=1000. From 0.21, default max_iter will be 1000, and default tol will be 1e-3.\n",
      "  \"and default tol will be 1e-3.\" % type(self), FutureWarning)\n",
      "E:\\py\\envs\\tf-keras\\lib\\site-packages\\sklearn\\linear_model\\stochastic_gradient.py:128: FutureWarning: max_iter and tol parameters have been added in <class 'sklearn.linear_model.passive_aggressive.PassiveAggressiveClassifier'> in 0.19. If both are left unset, they default to max_iter=5 and tol=None. If tol is not None, max_iter defaults to max_iter=1000. From 0.21, default max_iter will be 1000, and default tol will be 1e-3.\n",
      "  \"and default tol will be 1e-3.\" % type(self), FutureWarning)\n",
      "E:\\py\\envs\\tf-keras\\lib\\site-packages\\sklearn\\linear_model\\stochastic_gradient.py:128: FutureWarning: max_iter and tol parameters have been added in <class 'sklearn.linear_model.passive_aggressive.PassiveAggressiveClassifier'> in 0.19. If both are left unset, they default to max_iter=5 and tol=None. If tol is not None, max_iter defaults to max_iter=1000. From 0.21, default max_iter will be 1000, and default tol will be 1e-3.\n",
      "  \"and default tol will be 1e-3.\" % type(self), FutureWarning)\n",
      "E:\\py\\envs\\tf-keras\\lib\\site-packages\\sklearn\\linear_model\\stochastic_gradient.py:128: FutureWarning: max_iter and tol parameters have been added in <class 'sklearn.linear_model.passive_aggressive.PassiveAggressiveClassifier'> in 0.19. If both are left unset, they default to max_iter=5 and tol=None. If tol is not None, max_iter defaults to max_iter=1000. From 0.21, default max_iter will be 1000, and default tol will be 1e-3.\n",
      "  \"and default tol will be 1e-3.\" % type(self), FutureWarning)\n",
      "E:\\py\\envs\\tf-keras\\lib\\site-packages\\sklearn\\utils\\deprecation.py:122: FutureWarning: You are accessing a training score ('train_score'), which will not be available by default any more in 0.21. If you need training scores, please set return_train_score=True\n",
      "  warnings.warn(*warn_args, **warn_kwargs)\n",
      "E:\\py\\envs\\tf-keras\\lib\\site-packages\\sklearn\\utils\\deprecation.py:122: FutureWarning: You are accessing a training score ('train_score'), which will not be available by default any more in 0.21. If you need training scores, please set return_train_score=True\n",
      "  warnings.warn(*warn_args, **warn_kwargs)\n",
      "E:\\py\\envs\\tf-keras\\lib\\site-packages\\sklearn\\linear_model\\stochastic_gradient.py:128: FutureWarning: max_iter and tol parameters have been added in <class 'sklearn.linear_model.stochastic_gradient.SGDClassifier'> in 0.19. If both are left unset, they default to max_iter=5 and tol=None. If tol is not None, max_iter defaults to max_iter=1000. From 0.21, default max_iter will be 1000, and default tol will be 1e-3.\n",
      "  \"and default tol will be 1e-3.\" % type(self), FutureWarning)\n"
     ]
    },
    {
     "name": "stderr",
     "output_type": "stream",
     "text": [
      "E:\\py\\envs\\tf-keras\\lib\\site-packages\\sklearn\\linear_model\\stochastic_gradient.py:128: FutureWarning: max_iter and tol parameters have been added in <class 'sklearn.linear_model.stochastic_gradient.SGDClassifier'> in 0.19. If both are left unset, they default to max_iter=5 and tol=None. If tol is not None, max_iter defaults to max_iter=1000. From 0.21, default max_iter will be 1000, and default tol will be 1e-3.\n",
      "  \"and default tol will be 1e-3.\" % type(self), FutureWarning)\n",
      "E:\\py\\envs\\tf-keras\\lib\\site-packages\\sklearn\\linear_model\\stochastic_gradient.py:128: FutureWarning: max_iter and tol parameters have been added in <class 'sklearn.linear_model.stochastic_gradient.SGDClassifier'> in 0.19. If both are left unset, they default to max_iter=5 and tol=None. If tol is not None, max_iter defaults to max_iter=1000. From 0.21, default max_iter will be 1000, and default tol will be 1e-3.\n",
      "  \"and default tol will be 1e-3.\" % type(self), FutureWarning)\n",
      "E:\\py\\envs\\tf-keras\\lib\\site-packages\\sklearn\\linear_model\\stochastic_gradient.py:128: FutureWarning: max_iter and tol parameters have been added in <class 'sklearn.linear_model.stochastic_gradient.SGDClassifier'> in 0.19. If both are left unset, they default to max_iter=5 and tol=None. If tol is not None, max_iter defaults to max_iter=1000. From 0.21, default max_iter will be 1000, and default tol will be 1e-3.\n",
      "  \"and default tol will be 1e-3.\" % type(self), FutureWarning)\n",
      "E:\\py\\envs\\tf-keras\\lib\\site-packages\\sklearn\\linear_model\\stochastic_gradient.py:128: FutureWarning: max_iter and tol parameters have been added in <class 'sklearn.linear_model.stochastic_gradient.SGDClassifier'> in 0.19. If both are left unset, they default to max_iter=5 and tol=None. If tol is not None, max_iter defaults to max_iter=1000. From 0.21, default max_iter will be 1000, and default tol will be 1e-3.\n",
      "  \"and default tol will be 1e-3.\" % type(self), FutureWarning)\n",
      "E:\\py\\envs\\tf-keras\\lib\\site-packages\\sklearn\\linear_model\\stochastic_gradient.py:128: FutureWarning: max_iter and tol parameters have been added in <class 'sklearn.linear_model.stochastic_gradient.SGDClassifier'> in 0.19. If both are left unset, they default to max_iter=5 and tol=None. If tol is not None, max_iter defaults to max_iter=1000. From 0.21, default max_iter will be 1000, and default tol will be 1e-3.\n",
      "  \"and default tol will be 1e-3.\" % type(self), FutureWarning)\n",
      "E:\\py\\envs\\tf-keras\\lib\\site-packages\\sklearn\\linear_model\\stochastic_gradient.py:128: FutureWarning: max_iter and tol parameters have been added in <class 'sklearn.linear_model.stochastic_gradient.SGDClassifier'> in 0.19. If both are left unset, they default to max_iter=5 and tol=None. If tol is not None, max_iter defaults to max_iter=1000. From 0.21, default max_iter will be 1000, and default tol will be 1e-3.\n",
      "  \"and default tol will be 1e-3.\" % type(self), FutureWarning)\n",
      "E:\\py\\envs\\tf-keras\\lib\\site-packages\\sklearn\\linear_model\\stochastic_gradient.py:128: FutureWarning: max_iter and tol parameters have been added in <class 'sklearn.linear_model.stochastic_gradient.SGDClassifier'> in 0.19. If both are left unset, they default to max_iter=5 and tol=None. If tol is not None, max_iter defaults to max_iter=1000. From 0.21, default max_iter will be 1000, and default tol will be 1e-3.\n",
      "  \"and default tol will be 1e-3.\" % type(self), FutureWarning)\n",
      "E:\\py\\envs\\tf-keras\\lib\\site-packages\\sklearn\\linear_model\\stochastic_gradient.py:128: FutureWarning: max_iter and tol parameters have been added in <class 'sklearn.linear_model.stochastic_gradient.SGDClassifier'> in 0.19. If both are left unset, they default to max_iter=5 and tol=None. If tol is not None, max_iter defaults to max_iter=1000. From 0.21, default max_iter will be 1000, and default tol will be 1e-3.\n",
      "  \"and default tol will be 1e-3.\" % type(self), FutureWarning)\n",
      "E:\\py\\envs\\tf-keras\\lib\\site-packages\\sklearn\\linear_model\\stochastic_gradient.py:128: FutureWarning: max_iter and tol parameters have been added in <class 'sklearn.linear_model.stochastic_gradient.SGDClassifier'> in 0.19. If both are left unset, they default to max_iter=5 and tol=None. If tol is not None, max_iter defaults to max_iter=1000. From 0.21, default max_iter will be 1000, and default tol will be 1e-3.\n",
      "  \"and default tol will be 1e-3.\" % type(self), FutureWarning)\n",
      "E:\\py\\envs\\tf-keras\\lib\\site-packages\\sklearn\\utils\\deprecation.py:122: FutureWarning: You are accessing a training score ('train_score'), which will not be available by default any more in 0.21. If you need training scores, please set return_train_score=True\n",
      "  warnings.warn(*warn_args, **warn_kwargs)\n",
      "E:\\py\\envs\\tf-keras\\lib\\site-packages\\sklearn\\linear_model\\stochastic_gradient.py:128: FutureWarning: max_iter and tol parameters have been added in <class 'sklearn.linear_model.perceptron.Perceptron'> in 0.19. If both are left unset, they default to max_iter=5 and tol=None. If tol is not None, max_iter defaults to max_iter=1000. From 0.21, default max_iter will be 1000, and default tol will be 1e-3.\n",
      "  \"and default tol will be 1e-3.\" % type(self), FutureWarning)\n",
      "E:\\py\\envs\\tf-keras\\lib\\site-packages\\sklearn\\linear_model\\stochastic_gradient.py:128: FutureWarning: max_iter and tol parameters have been added in <class 'sklearn.linear_model.perceptron.Perceptron'> in 0.19. If both are left unset, they default to max_iter=5 and tol=None. If tol is not None, max_iter defaults to max_iter=1000. From 0.21, default max_iter will be 1000, and default tol will be 1e-3.\n",
      "  \"and default tol will be 1e-3.\" % type(self), FutureWarning)\n",
      "E:\\py\\envs\\tf-keras\\lib\\site-packages\\sklearn\\linear_model\\stochastic_gradient.py:128: FutureWarning: max_iter and tol parameters have been added in <class 'sklearn.linear_model.perceptron.Perceptron'> in 0.19. If both are left unset, they default to max_iter=5 and tol=None. If tol is not None, max_iter defaults to max_iter=1000. From 0.21, default max_iter will be 1000, and default tol will be 1e-3.\n",
      "  \"and default tol will be 1e-3.\" % type(self), FutureWarning)\n",
      "E:\\py\\envs\\tf-keras\\lib\\site-packages\\sklearn\\linear_model\\stochastic_gradient.py:128: FutureWarning: max_iter and tol parameters have been added in <class 'sklearn.linear_model.perceptron.Perceptron'> in 0.19. If both are left unset, they default to max_iter=5 and tol=None. If tol is not None, max_iter defaults to max_iter=1000. From 0.21, default max_iter will be 1000, and default tol will be 1e-3.\n",
      "  \"and default tol will be 1e-3.\" % type(self), FutureWarning)\n",
      "E:\\py\\envs\\tf-keras\\lib\\site-packages\\sklearn\\linear_model\\stochastic_gradient.py:128: FutureWarning: max_iter and tol parameters have been added in <class 'sklearn.linear_model.perceptron.Perceptron'> in 0.19. If both are left unset, they default to max_iter=5 and tol=None. If tol is not None, max_iter defaults to max_iter=1000. From 0.21, default max_iter will be 1000, and default tol will be 1e-3.\n",
      "  \"and default tol will be 1e-3.\" % type(self), FutureWarning)\n",
      "E:\\py\\envs\\tf-keras\\lib\\site-packages\\sklearn\\linear_model\\stochastic_gradient.py:128: FutureWarning: max_iter and tol parameters have been added in <class 'sklearn.linear_model.perceptron.Perceptron'> in 0.19. If both are left unset, they default to max_iter=5 and tol=None. If tol is not None, max_iter defaults to max_iter=1000. From 0.21, default max_iter will be 1000, and default tol will be 1e-3.\n",
      "  \"and default tol will be 1e-3.\" % type(self), FutureWarning)\n",
      "E:\\py\\envs\\tf-keras\\lib\\site-packages\\sklearn\\linear_model\\stochastic_gradient.py:128: FutureWarning: max_iter and tol parameters have been added in <class 'sklearn.linear_model.perceptron.Perceptron'> in 0.19. If both are left unset, they default to max_iter=5 and tol=None. If tol is not None, max_iter defaults to max_iter=1000. From 0.21, default max_iter will be 1000, and default tol will be 1e-3.\n",
      "  \"and default tol will be 1e-3.\" % type(self), FutureWarning)\n",
      "E:\\py\\envs\\tf-keras\\lib\\site-packages\\sklearn\\linear_model\\stochastic_gradient.py:128: FutureWarning: max_iter and tol parameters have been added in <class 'sklearn.linear_model.perceptron.Perceptron'> in 0.19. If both are left unset, they default to max_iter=5 and tol=None. If tol is not None, max_iter defaults to max_iter=1000. From 0.21, default max_iter will be 1000, and default tol will be 1e-3.\n",
      "  \"and default tol will be 1e-3.\" % type(self), FutureWarning)\n",
      "E:\\py\\envs\\tf-keras\\lib\\site-packages\\sklearn\\linear_model\\stochastic_gradient.py:128: FutureWarning: max_iter and tol parameters have been added in <class 'sklearn.linear_model.perceptron.Perceptron'> in 0.19. If both are left unset, they default to max_iter=5 and tol=None. If tol is not None, max_iter defaults to max_iter=1000. From 0.21, default max_iter will be 1000, and default tol will be 1e-3.\n",
      "  \"and default tol will be 1e-3.\" % type(self), FutureWarning)\n",
      "E:\\py\\envs\\tf-keras\\lib\\site-packages\\sklearn\\linear_model\\stochastic_gradient.py:128: FutureWarning: max_iter and tol parameters have been added in <class 'sklearn.linear_model.perceptron.Perceptron'> in 0.19. If both are left unset, they default to max_iter=5 and tol=None. If tol is not None, max_iter defaults to max_iter=1000. From 0.21, default max_iter will be 1000, and default tol will be 1e-3.\n",
      "  \"and default tol will be 1e-3.\" % type(self), FutureWarning)\n",
      "E:\\py\\envs\\tf-keras\\lib\\site-packages\\sklearn\\utils\\deprecation.py:122: FutureWarning: You are accessing a training score ('train_score'), which will not be available by default any more in 0.21. If you need training scores, please set return_train_score=True\n",
      "  warnings.warn(*warn_args, **warn_kwargs)\n",
      "E:\\py\\envs\\tf-keras\\lib\\site-packages\\sklearn\\utils\\deprecation.py:122: FutureWarning: You are accessing a training score ('train_score'), which will not be available by default any more in 0.21. If you need training scores, please set return_train_score=True\n",
      "  warnings.warn(*warn_args, **warn_kwargs)\n",
      "E:\\py\\envs\\tf-keras\\lib\\site-packages\\sklearn\\utils\\deprecation.py:122: FutureWarning: You are accessing a training score ('train_score'), which will not be available by default any more in 0.21. If you need training scores, please set return_train_score=True\n",
      "  warnings.warn(*warn_args, **warn_kwargs)\n"
     ]
    },
    {
     "name": "stderr",
     "output_type": "stream",
     "text": [
      "E:\\py\\envs\\tf-keras\\lib\\site-packages\\sklearn\\utils\\deprecation.py:122: FutureWarning: You are accessing a training score ('train_score'), which will not be available by default any more in 0.21. If you need training scores, please set return_train_score=True\n",
      "  warnings.warn(*warn_args, **warn_kwargs)\n",
      "E:\\py\\envs\\tf-keras\\lib\\site-packages\\sklearn\\utils\\deprecation.py:122: FutureWarning: You are accessing a training score ('train_score'), which will not be available by default any more in 0.21. If you need training scores, please set return_train_score=True\n",
      "  warnings.warn(*warn_args, **warn_kwargs)\n",
      "E:\\py\\envs\\tf-keras\\lib\\site-packages\\sklearn\\utils\\deprecation.py:122: FutureWarning: You are accessing a training score ('train_score'), which will not be available by default any more in 0.21. If you need training scores, please set return_train_score=True\n",
      "  warnings.warn(*warn_args, **warn_kwargs)\n",
      "E:\\py\\envs\\tf-keras\\lib\\site-packages\\sklearn\\utils\\deprecation.py:122: FutureWarning: You are accessing a training score ('train_score'), which will not be available by default any more in 0.21. If you need training scores, please set return_train_score=True\n",
      "  warnings.warn(*warn_args, **warn_kwargs)\n",
      "E:\\py\\envs\\tf-keras\\lib\\site-packages\\sklearn\\utils\\deprecation.py:122: FutureWarning: You are accessing a training score ('train_score'), which will not be available by default any more in 0.21. If you need training scores, please set return_train_score=True\n",
      "  warnings.warn(*warn_args, **warn_kwargs)\n",
      "E:\\py\\envs\\tf-keras\\lib\\site-packages\\sklearn\\utils\\deprecation.py:122: FutureWarning: You are accessing a training score ('train_score'), which will not be available by default any more in 0.21. If you need training scores, please set return_train_score=True\n",
      "  warnings.warn(*warn_args, **warn_kwargs)\n",
      "E:\\py\\envs\\tf-keras\\lib\\site-packages\\sklearn\\utils\\deprecation.py:122: FutureWarning: You are accessing a training score ('train_score'), which will not be available by default any more in 0.21. If you need training scores, please set return_train_score=True\n",
      "  warnings.warn(*warn_args, **warn_kwargs)\n",
      "E:\\py\\envs\\tf-keras\\lib\\site-packages\\sklearn\\utils\\deprecation.py:122: FutureWarning: You are accessing a training score ('train_score'), which will not be available by default any more in 0.21. If you need training scores, please set return_train_score=True\n",
      "  warnings.warn(*warn_args, **warn_kwargs)\n"
     ]
    },
    {
     "data": {
      "text/html": [
       "<div>\n",
       "<style scoped>\n",
       "    .dataframe tbody tr th:only-of-type {\n",
       "        vertical-align: middle;\n",
       "    }\n",
       "\n",
       "    .dataframe tbody tr th {\n",
       "        vertical-align: top;\n",
       "    }\n",
       "\n",
       "    .dataframe thead th {\n",
       "        text-align: right;\n",
       "    }\n",
       "</style>\n",
       "<table border=\"1\" class=\"dataframe\">\n",
       "  <thead>\n",
       "    <tr style=\"text-align: right;\">\n",
       "      <th></th>\n",
       "      <th>MLA Name</th>\n",
       "      <th>MLA Parameters</th>\n",
       "      <th>MLA Train Accuracy Mean</th>\n",
       "      <th>MLA Test Accuracy Mean</th>\n",
       "      <th>MLA Test Accuracy 3*STD</th>\n",
       "      <th>MLA Time</th>\n",
       "    </tr>\n",
       "  </thead>\n",
       "  <tbody>\n",
       "    <tr>\n",
       "      <th>3</th>\n",
       "      <td>GradientBoostingClassifier</td>\n",
       "      <td>{'min_weight_fraction_leaf': 0.0, 'min_impurit...</td>\n",
       "      <td>0.862245</td>\n",
       "      <td>0.80339</td>\n",
       "      <td>0.0483452</td>\n",
       "      <td>0.0724516</td>\n",
       "    </tr>\n",
       "    <tr>\n",
       "      <th>14</th>\n",
       "      <td>SVC</td>\n",
       "      <td>{'verbose': False, 'gamma': 'auto', 'kernel': ...</td>\n",
       "      <td>0.834184</td>\n",
       "      <td>0.801356</td>\n",
       "      <td>0.0452971</td>\n",
       "      <td>0.0442327</td>\n",
       "    </tr>\n",
       "    <tr>\n",
       "      <th>15</th>\n",
       "      <td>NuSVC</td>\n",
       "      <td>{'verbose': False, 'gamma': 'auto', 'kernel': ...</td>\n",
       "      <td>0.832653</td>\n",
       "      <td>0.798983</td>\n",
       "      <td>0.0485693</td>\n",
       "      <td>0.049438</td>\n",
       "    </tr>\n",
       "    <tr>\n",
       "      <th>16</th>\n",
       "      <td>LinearSVC</td>\n",
       "      <td>{'verbose': 0, 'dual': True, 'penalty': 'l2', ...</td>\n",
       "      <td>0.802891</td>\n",
       "      <td>0.797966</td>\n",
       "      <td>0.0577427</td>\n",
       "      <td>0.0315215</td>\n",
       "    </tr>\n",
       "    <tr>\n",
       "      <th>5</th>\n",
       "      <td>GaussianProcessClassifier</td>\n",
       "      <td>{'max_iter_predict': 100, 'copy_X_train': True...</td>\n",
       "      <td>0.87398</td>\n",
       "      <td>0.797627</td>\n",
       "      <td>0.0540133</td>\n",
       "      <td>0.201143</td>\n",
       "    </tr>\n",
       "    <tr>\n",
       "      <th>19</th>\n",
       "      <td>LinearDiscriminantAnalysis</td>\n",
       "      <td>{'shrinkage': None, 'store_covariance': False,...</td>\n",
       "      <td>0.803231</td>\n",
       "      <td>0.796949</td>\n",
       "      <td>0.0550375</td>\n",
       "      <td>0.00209982</td>\n",
       "    </tr>\n",
       "    <tr>\n",
       "      <th>6</th>\n",
       "      <td>LogisticRegressionCV</td>\n",
       "      <td>{'verbose': 0, 'penalty': 'l2', 'fit_intercept...</td>\n",
       "      <td>0.803912</td>\n",
       "      <td>0.796949</td>\n",
       "      <td>0.0634188</td>\n",
       "      <td>0.104778</td>\n",
       "    </tr>\n",
       "    <tr>\n",
       "      <th>8</th>\n",
       "      <td>RidgeClassifierCV</td>\n",
       "      <td>{'scoring': None, 'fit_intercept': True, 'alph...</td>\n",
       "      <td>0.803741</td>\n",
       "      <td>0.796271</td>\n",
       "      <td>0.0535132</td>\n",
       "      <td>0.00260015</td>\n",
       "    </tr>\n",
       "    <tr>\n",
       "      <th>4</th>\n",
       "      <td>RandomForestClassifier</td>\n",
       "      <td>{'min_weight_fraction_leaf': 0.0, 'min_impurit...</td>\n",
       "      <td>0.89949</td>\n",
       "      <td>0.794915</td>\n",
       "      <td>0.0457627</td>\n",
       "      <td>0.0166115</td>\n",
       "    </tr>\n",
       "    <tr>\n",
       "      <th>0</th>\n",
       "      <td>AdaBoostClassifier</td>\n",
       "      <td>{'random_state': None, 'algorithm': 'SAMME.R',...</td>\n",
       "      <td>0.817007</td>\n",
       "      <td>0.792203</td>\n",
       "      <td>0.0419422</td>\n",
       "      <td>0.0779564</td>\n",
       "    </tr>\n",
       "    <tr>\n",
       "      <th>2</th>\n",
       "      <td>ExtraTreesClassifier</td>\n",
       "      <td>{'min_weight_fraction_leaf': 0.0, 'min_impurit...</td>\n",
       "      <td>0.905782</td>\n",
       "      <td>0.791525</td>\n",
       "      <td>0.0299094</td>\n",
       "      <td>0.0149124</td>\n",
       "    </tr>\n",
       "    <tr>\n",
       "      <th>1</th>\n",
       "      <td>BaggingClassifier</td>\n",
       "      <td>{'verbose': 0, 'n_jobs': 1, 'bootstrap': True,...</td>\n",
       "      <td>0.898129</td>\n",
       "      <td>0.790169</td>\n",
       "      <td>0.0617666</td>\n",
       "      <td>0.0176089</td>\n",
       "    </tr>\n",
       "    <tr>\n",
       "      <th>13</th>\n",
       "      <td>KNeighborsClassifier</td>\n",
       "      <td>{'leaf_size': 30, 'algorithm': 'auto', 'n_neig...</td>\n",
       "      <td>0.840816</td>\n",
       "      <td>0.789831</td>\n",
       "      <td>0.0591232</td>\n",
       "      <td>0.0023016</td>\n",
       "    </tr>\n",
       "    <tr>\n",
       "      <th>17</th>\n",
       "      <td>DecisionTreeClassifier</td>\n",
       "      <td>{'min_weight_fraction_leaf': 0.0, 'min_impurit...</td>\n",
       "      <td>0.905782</td>\n",
       "      <td>0.784746</td>\n",
       "      <td>0.0399727</td>\n",
       "      <td>0.00180154</td>\n",
       "    </tr>\n",
       "    <tr>\n",
       "      <th>18</th>\n",
       "      <td>ExtraTreeClassifier</td>\n",
       "      <td>{'min_weight_fraction_leaf': 0.0, 'min_impurit...</td>\n",
       "      <td>0.905782</td>\n",
       "      <td>0.777288</td>\n",
       "      <td>0.0569945</td>\n",
       "      <td>0.0015013</td>\n",
       "    </tr>\n",
       "    <tr>\n",
       "      <th>11</th>\n",
       "      <td>BernoulliNB</td>\n",
       "      <td>{'binarize': 0.0, 'class_prior': None, 'fit_pr...</td>\n",
       "      <td>0.782313</td>\n",
       "      <td>0.775593</td>\n",
       "      <td>0.0388043</td>\n",
       "      <td>0.00160115</td>\n",
       "    </tr>\n",
       "    <tr>\n",
       "      <th>20</th>\n",
       "      <td>QuadraticDiscriminantAnalysis</td>\n",
       "      <td>{'store_covariances': None, 'reg_param': 0.0, ...</td>\n",
       "      <td>0.796939</td>\n",
       "      <td>0.775254</td>\n",
       "      <td>0.067311</td>\n",
       "      <td>0.00170116</td>\n",
       "    </tr>\n",
       "    <tr>\n",
       "      <th>12</th>\n",
       "      <td>GaussianNB</td>\n",
       "      <td>{'priors': None}</td>\n",
       "      <td>0.768878</td>\n",
       "      <td>0.761695</td>\n",
       "      <td>0.0853329</td>\n",
       "      <td>0.00150125</td>\n",
       "    </tr>\n",
       "    <tr>\n",
       "      <th>9</th>\n",
       "      <td>SGDClassifier</td>\n",
       "      <td>{'shuffle': True, 'verbose': 0, 'penalty': 'l2...</td>\n",
       "      <td>0.742517</td>\n",
       "      <td>0.720339</td>\n",
       "      <td>0.324254</td>\n",
       "      <td>0.00310214</td>\n",
       "    </tr>\n",
       "    <tr>\n",
       "      <th>7</th>\n",
       "      <td>PassiveAggressiveClassifier</td>\n",
       "      <td>{'verbose': 0, 'loss': 'hinge', 'n_iter': None...</td>\n",
       "      <td>0.676701</td>\n",
       "      <td>0.680339</td>\n",
       "      <td>0.453223</td>\n",
       "      <td>0.00209277</td>\n",
       "    </tr>\n",
       "    <tr>\n",
       "      <th>10</th>\n",
       "      <td>Perceptron</td>\n",
       "      <td>{'verbose': 0, 'penalty': None, 'n_iter': None...</td>\n",
       "      <td>0.681803</td>\n",
       "      <td>0.668814</td>\n",
       "      <td>0.405125</td>\n",
       "      <td>0.00210106</td>\n",
       "    </tr>\n",
       "  </tbody>\n",
       "</table>\n",
       "</div>"
      ],
      "text/plain": [
       "                         MLA Name  \\\n",
       "3      GradientBoostingClassifier   \n",
       "14                            SVC   \n",
       "15                          NuSVC   \n",
       "16                      LinearSVC   \n",
       "5       GaussianProcessClassifier   \n",
       "19     LinearDiscriminantAnalysis   \n",
       "6            LogisticRegressionCV   \n",
       "8               RidgeClassifierCV   \n",
       "4          RandomForestClassifier   \n",
       "0              AdaBoostClassifier   \n",
       "2            ExtraTreesClassifier   \n",
       "1               BaggingClassifier   \n",
       "13           KNeighborsClassifier   \n",
       "17         DecisionTreeClassifier   \n",
       "18            ExtraTreeClassifier   \n",
       "11                    BernoulliNB   \n",
       "20  QuadraticDiscriminantAnalysis   \n",
       "12                     GaussianNB   \n",
       "9                   SGDClassifier   \n",
       "7     PassiveAggressiveClassifier   \n",
       "10                     Perceptron   \n",
       "\n",
       "                                       MLA Parameters MLA Train Accuracy Mean  \\\n",
       "3   {'min_weight_fraction_leaf': 0.0, 'min_impurit...                0.862245   \n",
       "14  {'verbose': False, 'gamma': 'auto', 'kernel': ...                0.834184   \n",
       "15  {'verbose': False, 'gamma': 'auto', 'kernel': ...                0.832653   \n",
       "16  {'verbose': 0, 'dual': True, 'penalty': 'l2', ...                0.802891   \n",
       "5   {'max_iter_predict': 100, 'copy_X_train': True...                 0.87398   \n",
       "19  {'shrinkage': None, 'store_covariance': False,...                0.803231   \n",
       "6   {'verbose': 0, 'penalty': 'l2', 'fit_intercept...                0.803912   \n",
       "8   {'scoring': None, 'fit_intercept': True, 'alph...                0.803741   \n",
       "4   {'min_weight_fraction_leaf': 0.0, 'min_impurit...                 0.89949   \n",
       "0   {'random_state': None, 'algorithm': 'SAMME.R',...                0.817007   \n",
       "2   {'min_weight_fraction_leaf': 0.0, 'min_impurit...                0.905782   \n",
       "1   {'verbose': 0, 'n_jobs': 1, 'bootstrap': True,...                0.898129   \n",
       "13  {'leaf_size': 30, 'algorithm': 'auto', 'n_neig...                0.840816   \n",
       "17  {'min_weight_fraction_leaf': 0.0, 'min_impurit...                0.905782   \n",
       "18  {'min_weight_fraction_leaf': 0.0, 'min_impurit...                0.905782   \n",
       "11  {'binarize': 0.0, 'class_prior': None, 'fit_pr...                0.782313   \n",
       "20  {'store_covariances': None, 'reg_param': 0.0, ...                0.796939   \n",
       "12                                   {'priors': None}                0.768878   \n",
       "9   {'shuffle': True, 'verbose': 0, 'penalty': 'l2...                0.742517   \n",
       "7   {'verbose': 0, 'loss': 'hinge', 'n_iter': None...                0.676701   \n",
       "10  {'verbose': 0, 'penalty': None, 'n_iter': None...                0.681803   \n",
       "\n",
       "   MLA Test Accuracy Mean MLA Test Accuracy 3*STD    MLA Time  \n",
       "3                 0.80339               0.0483452   0.0724516  \n",
       "14               0.801356               0.0452971   0.0442327  \n",
       "15               0.798983               0.0485693    0.049438  \n",
       "16               0.797966               0.0577427   0.0315215  \n",
       "5                0.797627               0.0540133    0.201143  \n",
       "19               0.796949               0.0550375  0.00209982  \n",
       "6                0.796949               0.0634188    0.104778  \n",
       "8                0.796271               0.0535132  0.00260015  \n",
       "4                0.794915               0.0457627   0.0166115  \n",
       "0                0.792203               0.0419422   0.0779564  \n",
       "2                0.791525               0.0299094   0.0149124  \n",
       "1                0.790169               0.0617666   0.0176089  \n",
       "13               0.789831               0.0591232   0.0023016  \n",
       "17               0.784746               0.0399727  0.00180154  \n",
       "18               0.777288               0.0569945   0.0015013  \n",
       "11               0.775593               0.0388043  0.00160115  \n",
       "20               0.775254                0.067311  0.00170116  \n",
       "12               0.761695               0.0853329  0.00150125  \n",
       "9                0.720339                0.324254  0.00310214  \n",
       "7                0.680339                0.453223  0.00209277  \n",
       "10               0.668814                0.405125  0.00210106  "
      ]
     },
     "execution_count": 13,
     "metadata": {},
     "output_type": "execute_result"
    }
   ],
   "source": [
    "from sklearn import ensemble, gaussian_process, linear_model, naive_bayes, svm, neighbors, tree, discriminant_analysis, model_selection\n",
    "\n",
    "MLA = [\n",
    "  #  Ensemble Methods\n",
    "    ensemble.AdaBoostClassifier(),\n",
    "    ensemble.BaggingClassifier(),\n",
    "    ensemble.ExtraTreesClassifier(),\n",
    "    ensemble.GradientBoostingClassifier(),\n",
    "    ensemble.RandomForestClassifier(),\n",
    "\n",
    "  #  Gaussian Processes\n",
    "    gaussian_process.GaussianProcessClassifier(),\n",
    "    \n",
    "    #GLM\n",
    "    linear_model.LogisticRegressionCV(),\n",
    "    linear_model.PassiveAggressiveClassifier(),\n",
    "    linear_model.RidgeClassifierCV(),\n",
    "    linear_model.SGDClassifier(),\n",
    "    linear_model.Perceptron(),\n",
    "    \n",
    "    #Navies Bayes\n",
    "    naive_bayes.BernoulliNB(),\n",
    "    naive_bayes.GaussianNB(),\n",
    "    \n",
    "    #Nearest Neighbor\n",
    "    neighbors.KNeighborsClassifier(),\n",
    "        #SVM\n",
    "    svm.SVC(probability=True),\n",
    "    svm.NuSVC(probability=True),\n",
    "    svm.LinearSVC(),\n",
    "    \n",
    "    #Trees    \n",
    "    tree.DecisionTreeClassifier(),\n",
    "    tree.ExtraTreeClassifier(),\n",
    "    \n",
    "    #Discriminant Analysis\n",
    "    discriminant_analysis.LinearDiscriminantAnalysis(),\n",
    "    discriminant_analysis.QuadraticDiscriminantAnalysis(),\n",
    "\n",
    "    \n",
    "#     #xgboost: http://xgboost.readthedocs.io/en/latest/model.html\n",
    "#     XGBClassifier()    \n",
    "    ]\n",
    "\n",
    "\n",
    "\n",
    "#split dataset in cross-validation with this splitter class:\n",
    "cv_split = model_selection.ShuffleSplit(n_splits = 10, test_size = .33, train_size = .66, random_state = 0 ) \n",
    "\n",
    "#create table to compare MLA metrics\n",
    "MLA_columns = ['MLA Name', 'MLA Parameters','MLA Train Accuracy Mean', 'MLA Test Accuracy Mean', 'MLA Test Accuracy 3*STD' ,'MLA Time']\n",
    "MLA_compare = pd.DataFrame(columns = MLA_columns)\n",
    "\n",
    "#create table to compare MLA predictions\n",
    "MLA_predict = data.iloc[:,0]\n",
    "\n",
    "#index through MLA and save performance to table\n",
    "row_index = 0\n",
    "for alg in MLA:\n",
    "\n",
    "    #set name and parameters\n",
    "    MLA_name = alg.__class__.__name__\n",
    "    MLA_compare.loc[row_index, 'MLA Name'] = MLA_name\n",
    "    MLA_compare.loc[row_index, 'MLA Parameters'] = str(alg.get_params())\n",
    "    \n",
    "    #score model with cross validation: http://scikit-learn.org/stable/modules/generated/sklearn.model_selection.cross_validate.html#sklearn.model_selection.cross_validate\n",
    "    cv_results = model_selection.cross_validate(alg, data.iloc[:,1:], data.iloc[:,0], cv  = cv_split)\n",
    "\n",
    "    MLA_compare.loc[row_index, 'MLA Time'] = cv_results['fit_time'].mean()\n",
    "    MLA_compare.loc[row_index, 'MLA Train Accuracy Mean'] = cv_results['train_score'].mean()\n",
    "    MLA_compare.loc[row_index, 'MLA Test Accuracy Mean'] = cv_results['test_score'].mean()   \n",
    "    #if this is a non-bias random sample, then +/-3 standard deviations (std) from the mean, should statistically capture 99.7% of the subsets\n",
    "    MLA_compare.loc[row_index, 'MLA Test Accuracy 3*STD'] = cv_results['test_score'].std()*3   #let's know the worst that can happen!\n",
    "    \n",
    "\n",
    "    #save MLA predictions - see section 6 for usage\n",
    "    alg.fit(data.iloc[:,1:], data.iloc[:,0])\n",
    "    MLA_predict[MLA_name] = alg.predict(data.iloc[:,1:])\n",
    "    row_index+=1\n",
    "\n",
    "    \n",
    "#print and sort table: https://pandas.pydata.org/pandas-docs/stable/generated/pandas.DataFrame.sort_values.html\n",
    "MLA_compare.sort_values(by = ['MLA Test Accuracy Mean'], ascending = False, inplace = True)\n",
    "MLA_compare\n",
    "#MLA_predict"
   ]
  },
  {
   "cell_type": "markdown",
   "metadata": {},
   "source": [
    "## PARAMETERS FINETUNING\n",
    "## GradientBoostingClassifier"
   ]
  },
  {
   "cell_type": "code",
   "execution_count": 14,
   "metadata": {},
   "outputs": [
    {
     "name": "stdout",
     "output_type": "stream",
     "text": [
      "BEFORE DT Parameters:  {'min_weight_fraction_leaf': 0.0, 'min_impurity_decrease': 0.0, 'loss': 'deviance', 'max_leaf_nodes': None, 'init': None, 'verbose': 0, 'max_features': None, 'min_samples_leaf': 1, 'subsample': 1.0, 'min_samples_split': 2, 'random_state': None, 'presort': 'auto', 'max_depth': 3, 'min_impurity_split': None, 'warm_start': False, 'n_estimators': 100, 'criterion': 'friedman_mse', 'learning_rate': 0.1}\n",
      "BEFORE DT Training w/bin score mean: 86.22\n",
      "BEFORE DT Test w/bin score mean: 80.31\n",
      "----------\n"
     ]
    },
    {
     "name": "stderr",
     "output_type": "stream",
     "text": [
      "E:\\py\\envs\\tf-keras\\lib\\site-packages\\sklearn\\utils\\deprecation.py:122: FutureWarning: You are accessing a training score ('train_score'), which will not be available by default any more in 0.21. If you need training scores, please set return_train_score=True\n",
      "  warnings.warn(*warn_args, **warn_kwargs)\n"
     ]
    }
   ],
   "source": [
    "# cv_split = model_selection.ShuffleSplit(n_splits = 10, test_size = .33, train_size = .66, random_state = 0 ) \n",
    "# cv_results = model_selection.cross_validate(ensemble.GradientBoostingClassifier(), data.iloc[:,1:], data.iloc[:,0], cv  = cv_split)\n",
    "# GBC=ensemble.GradientBoostingClassifier().fit(data.iloc[:,1:], data.iloc[:,0])\n",
    "\n",
    "#base model\n",
    "GBC = ensemble.GradientBoostingClassifier()\n",
    "base_results = model_selection.cross_validate(GBC, data.iloc[:,1:], data.iloc[:,0], cv  = cv_split)\n",
    "GBC.fit(data.iloc[:,1:], data.iloc[:,0])\n",
    "\n",
    "print('BEFORE DT Parameters: ', GBC.get_params())\n",
    "print(\"BEFORE DT Training w/bin score mean: {:.2f}\". format(base_results['train_score'].mean()*100)) \n",
    "print(\"BEFORE DT Test w/bin score mean: {:.2f}\". format(base_results['test_score'].mean()*100))\n",
    "print('-'*10)\n",
    "\n"
   ]
  },
  {
   "cell_type": "markdown",
   "metadata": {},
   "source": [
    "### Learning rate\n",
    "#### optimum: 0.25"
   ]
  },
  {
   "cell_type": "code",
   "execution_count": 15,
   "metadata": {},
   "outputs": [
    {
     "data": {
      "image/png": "[encoded data removed]",
      "text/plain": [
       "<matplotlib.figure.Figure at 0x8f0dd93128>"
      ]
     },
     "metadata": {},
     "output_type": "display_data"
    },
    {
     "name": "stdout",
     "output_type": "stream",
     "text": [
      "[0.7620238095238094, 0.7539285714285713, 0.7689285714285714, 0.761904761904762, 0.7727380952380953, 0.7913095238095239]\n"
     ]
    }
   ],
   "source": [
    "learning_rates = [1, 0.5, 0.25, 0.1, 0.05, 0.01]\n",
    "train_results = []\n",
    "test_results = []\n",
    "for eta in learning_rates:\n",
    "    model = ensemble.GradientBoostingClassifier(learning_rate=eta)\n",
    "    model.fit(X_train, y_train)\n",
    "    train_pred = model.predict(X_train)\n",
    "    false_positive_rate, true_positive_rate, thresholds = roc_curve(y_train, train_pred)\n",
    "    roc_auc = auc(false_positive_rate, true_positive_rate)\n",
    "    train_results.append(roc_auc)\n",
    "    y_pred = model.predict(X_test)\n",
    "    false_positive_rate, true_positive_rate, thresholds = roc_curve(y_test, y_pred)\n",
    "    roc_auc = auc(false_positive_rate, true_positive_rate)\n",
    "    test_results.append(roc_auc)\n",
    "\n",
    "from matplotlib.legend_handler import HandlerLine2D\n",
    "line1, = plt.plot(learning_rates, train_results, 'b', label=\"Train AUC\")\n",
    "line2, = plt.plot(learning_rates, test_results, 'r', label=\"Test AUC\")\n",
    "plt.legend(handler_map={line1: HandlerLine2D(numpoints=2)})\n",
    "plt.ylabel(\"AUC score\")\n",
    "plt.xlabel(\"learning rate\")\n",
    "plt.show()\n",
    "\n",
    "print(test_results)"
   ]
  },
  {
   "cell_type": "markdown",
   "metadata": {},
   "source": [
    "### N-Estimators\n",
    "#### optimum: 300"
   ]
  },
  {
   "cell_type": "code",
   "execution_count": 16,
   "metadata": {},
   "outputs": [
    {
     "data": {
      "image/png": "[encoded data removed]",
      "text/plain": [
       "<matplotlib.figure.Figure at 0x8f0cc5a2b0>"
      ]
     },
     "metadata": {},
     "output_type": "display_data"
    },
    {
     "name": "stdout",
     "output_type": "stream",
     "text": [
      "[0.5, 0.53, 0.7761904761904761, 0.7913095238095239, 0.7854761904761904, 0.7597619047619047, 0.7638095238095239, 0.761904761904762, 0.765, 0.7659523809523809, 0.7689285714285714, 0.7678571428571428, 0.7579761904761904]\n"
     ]
    }
   ],
   "source": [
    "n_estimators = [1, 2, 4, 8, 16, 32, 64, 100, 200,300,400,500,1000]\n",
    "train_results = []\n",
    "test_results = []\n",
    "for eta in n_estimators:\n",
    "    model = ensemble.GradientBoostingClassifier(n_estimators=eta)\n",
    "    model.fit(X_train, y_train)\n",
    "    train_pred = model.predict(X_train)\n",
    "    false_positive_rate, true_positive_rate, thresholds = roc_curve(y_train, train_pred)\n",
    "    roc_auc = auc(false_positive_rate, true_positive_rate)\n",
    "    train_results.append(roc_auc)\n",
    "    y_pred = model.predict(X_test)\n",
    "    false_positive_rate, true_positive_rate, thresholds = roc_curve(y_test, y_pred)\n",
    "    roc_auc = auc(false_positive_rate, true_positive_rate)\n",
    "    test_results.append(roc_auc)\n",
    "\n",
    "from matplotlib.legend_handler import HandlerLine2D\n",
    "line1, = plt.plot(n_estimators, train_results, 'b', label=\"Train AUC\")\n",
    "line2, = plt.plot(n_estimators, test_results, 'r', label=\"Test AUC\")\n",
    "plt.legend(handler_map={line1: HandlerLine2D(numpoints=2)})\n",
    "plt.ylabel(\"AUC score\")\n",
    "plt.xlabel(\"N-estimators\")\n",
    "plt.show()\n",
    "\n",
    "print(test_results)"
   ]
  },
  {
   "cell_type": "markdown",
   "metadata": {},
   "source": [
    "### Max Depth\n",
    "#### optimum: no optimum it causes over fitting"
   ]
  },
  {
   "cell_type": "code",
   "execution_count": 17,
   "metadata": {},
   "outputs": [
    {
     "data": {
      "image/png": "[encoded data removed]",
      "text/plain": [
       "<matplotlib.figure.Figure at 0x8f0cc97240>"
      ]
     },
     "metadata": {},
     "output_type": "display_data"
    },
    {
     "name": "stdout",
     "output_type": "stream",
     "text": [
      "[0.7697619047619048, 0.766904761904762, 0.761904761904762, 0.745, 0.7448809523809523, 0.7648809523809523, 0.7379761904761905, 0.7529761904761904, 0.7489285714285713, 0.7659523809523809, 0.7389285714285714, 0.7528571428571429, 0.7359523809523809, 0.7498809523809524, 0.7698809523809524, 0.761904761904762, 0.7469047619047618, 0.7419047619047618, 0.7419047619047618, 0.7469047619047618, 0.766904761904762, 0.761904761904762, 0.766904761904762, 0.7469047619047618, 0.7469047619047618, 0.7469047619047618, 0.7469047619047618, 0.7469047619047618, 0.7528571428571429, 0.766904761904762, 0.7469047619047618, 0.7419047619047618]\n"
     ]
    }
   ],
   "source": [
    "max_depths = np.linspace(1, 32, 32, endpoint=True)\n",
    "train_results = []\n",
    "test_results = []\n",
    "for eta in max_depths:\n",
    "    model = ensemble.GradientBoostingClassifier(max_depth=eta)\n",
    "    model.fit(X_train, y_train)\n",
    "    train_pred = model.predict(X_train)\n",
    "    false_positive_rate, true_positive_rate, thresholds = roc_curve(y_train, train_pred)\n",
    "    roc_auc = auc(false_positive_rate, true_positive_rate)\n",
    "    train_results.append(roc_auc)\n",
    "    y_pred = model.predict(X_test)\n",
    "    false_positive_rate, true_positive_rate, thresholds = roc_curve(y_test, y_pred)\n",
    "    roc_auc = auc(false_positive_rate, true_positive_rate)\n",
    "    test_results.append(roc_auc)\n",
    "\n",
    "from matplotlib.legend_handler import HandlerLine2D\n",
    "line1, = plt.plot(max_depths, train_results, 'b', label=\"Train AUC\")\n",
    "line2, = plt.plot(max_depths, test_results, 'r', label=\"Test AUC\")\n",
    "plt.legend(handler_map={line1: HandlerLine2D(numpoints=2)})\n",
    "plt.ylabel(\"AUC score\")\n",
    "plt.xlabel(\"max_depths\")\n",
    "plt.show()\n",
    "\n",
    "print(test_results)"
   ]
  },
  {
   "cell_type": "markdown",
   "metadata": {},
   "source": [
    "### Min Samples Splits\n",
    "#### optimum: 0.0000001, increasing this value results in underfitting"
   ]
  },
  {
   "cell_type": "code",
   "execution_count": 18,
   "metadata": {},
   "outputs": [
    {
     "data": {
      "image/png": "[encoded data removed]",
      "text/plain": [
       "<matplotlib.figure.Figure at 0x8f0cd392b0>"
      ]
     },
     "metadata": {},
     "output_type": "display_data"
    },
    {
     "name": "stdout",
     "output_type": "stream",
     "text": [
      "[0.761904761904762, 0.7538095238095239, 0.7598809523809523, 0.7608333333333333, 0.7578571428571428, 0.7728571428571428, 0.7578571428571428, 0.7578571428571428, 0.7617857142857143, 0.7697619047619048]\n"
     ]
    }
   ],
   "source": [
    "min_samples_splits = np.linspace(0.0000001, 1.0, 10, endpoint=True)\n",
    "train_results = []\n",
    "test_results = []\n",
    "for eta in min_samples_splits:\n",
    "    model = ensemble.GradientBoostingClassifier(min_samples_split=eta)\n",
    "    model.fit(X_train, y_train)\n",
    "    train_pred = model.predict(X_train)\n",
    "    false_positive_rate, true_positive_rate, thresholds = roc_curve(y_train, train_pred)\n",
    "    roc_auc = auc(false_positive_rate, true_positive_rate)\n",
    "    train_results.append(roc_auc)\n",
    "    y_pred = model.predict(X_test)\n",
    "    false_positive_rate, true_positive_rate, thresholds = roc_curve(y_test, y_pred)\n",
    "    roc_auc = auc(false_positive_rate, true_positive_rate)\n",
    "    test_results.append(roc_auc)\n",
    "\n",
    "from matplotlib.legend_handler import HandlerLine2D\n",
    "line1, = plt.plot(min_samples_splits, train_results, 'b', label=\"Train AUC\")\n",
    "line2, = plt.plot(min_samples_splits, test_results, 'r', label=\"Test AUC\")\n",
    "plt.legend(handler_map={line1: HandlerLine2D(numpoints=2)})\n",
    "plt.ylabel(\"AUC score\")\n",
    "plt.xlabel(\"min_samples_splits\")\n",
    "plt.show()\n",
    "\n",
    "print(test_results)"
   ]
  },
  {
   "cell_type": "markdown",
   "metadata": {},
   "source": [
    "### Min Samples Splits\n",
    "#### optimum: 0.1, increasing this value results in underfitting"
   ]
  },
  {
   "cell_type": "code",
   "execution_count": 19,
   "metadata": {},
   "outputs": [
    {
     "data": {
      "image/png": "[encoded data removed]",
      "text/plain": [
       "<matplotlib.figure.Figure at 0x8f0ccf65f8>"
      ]
     },
     "metadata": {},
     "output_type": "display_data"
    },
    {
     "name": "stdout",
     "output_type": "stream",
     "text": [
      "[0.7757142857142857, 0.7539285714285713, 0.7547619047619047, 0.7001190476190478, 0.5]\n"
     ]
    }
   ],
   "source": [
    "min_samples_leafs = np.linspace(0.1, 0.5, 5, endpoint=True)\n",
    "train_results = []\n",
    "test_results = []\n",
    "for eta in min_samples_leafs:\n",
    "    model = ensemble.GradientBoostingClassifier(min_samples_leaf=eta)\n",
    "    model.fit(X_train, y_train)\n",
    "    train_pred = model.predict(X_train)\n",
    "    false_positive_rate, true_positive_rate, thresholds = roc_curve(y_train, train_pred)\n",
    "    roc_auc = auc(false_positive_rate, true_positive_rate)\n",
    "    train_results.append(roc_auc)\n",
    "    y_pred = model.predict(X_test)\n",
    "    false_positive_rate, true_positive_rate, thresholds = roc_curve(y_test, y_pred)\n",
    "    roc_auc = auc(false_positive_rate, true_positive_rate)\n",
    "    test_results.append(roc_auc)\n",
    "\n",
    "from matplotlib.legend_handler import HandlerLine2D\n",
    "line1, = plt.plot(min_samples_leafs, train_results, 'b', label=\"Train AUC\")\n",
    "line2, = plt.plot(min_samples_leafs, test_results, 'r', label=\"Test AUC\")\n",
    "plt.legend(handler_map={line1: HandlerLine2D(numpoints=2)})\n",
    "plt.ylabel(\"AUC score\")\n",
    "plt.xlabel(\"min_samples_splits\")\n",
    "plt.show()\n",
    "\n",
    "print(test_results)"
   ]
  },
  {
   "cell_type": "markdown",
   "metadata": {},
   "source": [
    "### Max Features\n",
    "#### optimum: 1"
   ]
  },
  {
   "cell_type": "code",
   "execution_count": 20,
   "metadata": {},
   "outputs": [
    {
     "data": {
      "image/png": "[encoded data removed]",
      "text/plain": [
       "<matplotlib.figure.Figure at 0x8f0ccf66d8>"
      ]
     },
     "metadata": {},
     "output_type": "display_data"
    },
    {
     "name": "stdout",
     "output_type": "stream",
     "text": [
      "[0.7728571428571428, 0.7648809523809523, 0.7778571428571429, 0.7628571428571429, 0.7479761904761905, 0.7708333333333333, 0.7658333333333334, 0.7717857142857143]\n"
     ]
    }
   ],
   "source": [
    "max_features = list(range(1,X_train.shape[1]))\n",
    "train_results = []\n",
    "test_results = []\n",
    "for eta in max_features:\n",
    "    model = ensemble.GradientBoostingClassifier(max_features=eta)\n",
    "    model.fit(X_train, y_train)\n",
    "    train_pred = model.predict(X_train)\n",
    "    false_positive_rate, true_positive_rate, thresholds = roc_curve(y_train, train_pred)\n",
    "    roc_auc = auc(false_positive_rate, true_positive_rate)\n",
    "    train_results.append(roc_auc)\n",
    "    y_pred = model.predict(X_test)\n",
    "    false_positive_rate, true_positive_rate, thresholds = roc_curve(y_test, y_pred)\n",
    "    roc_auc = auc(false_positive_rate, true_positive_rate)\n",
    "    test_results.append(roc_auc)\n",
    "\n",
    "from matplotlib.legend_handler import HandlerLine2D\n",
    "line1, = plt.plot(max_features, train_results, 'b', label=\"Train AUC\")\n",
    "line2, = plt.plot(max_features, test_results, 'r', label=\"Test AUC\")\n",
    "plt.legend(handler_map={line1: HandlerLine2D(numpoints=2)})\n",
    "plt.ylabel(\"AUC score\")\n",
    "plt.xlabel(\"min_samples_splits\")\n",
    "plt.show()\n",
    "\n",
    "print(test_results)"
   ]
  },
  {
   "cell_type": "code",
   "execution_count": 21,
   "metadata": {},
   "outputs": [
    {
     "name": "stdout",
     "output_type": "stream",
     "text": [
      "AFTER DT Parameters:  {'min_weight_fraction_leaf': 0.0, 'min_impurity_decrease': 0.0, 'loss': 'deviance', 'max_leaf_nodes': None, 'init': None, 'verbose': 0, 'max_features': 1, 'min_samples_leaf': 0.1, 'subsample': 1.0, 'min_samples_split': 2, 'random_state': 7, 'presort': 'auto', 'max_depth': 3, 'min_impurity_split': None, 'warm_start': False, 'n_estimators': 300, 'criterion': 'friedman_mse', 'learning_rate': 0.25}\n",
      "AFTER DT Training w/bin score mean: 83.74\n",
      "AFTER DT Test w/bin score mean: 80.61\n"
     ]
    },
    {
     "name": "stderr",
     "output_type": "stream",
     "text": [
      "E:\\py\\envs\\tf-keras\\lib\\site-packages\\sklearn\\utils\\deprecation.py:122: FutureWarning: You are accessing a training score ('train_score'), which will not be available by default any more in 0.21. If you need training scores, please set return_train_score=True\n",
      "  warnings.warn(*warn_args, **warn_kwargs)\n"
     ]
    }
   ],
   "source": [
    "\n",
    "\n",
    "GBC = ensemble.GradientBoostingClassifier(learning_rate=0.25,n_estimators=300,min_samples_leaf=0.1,\n",
    "                                         max_features=1, random_state=7)\n",
    "base_results = model_selection.cross_validate(GBC, data.iloc[:,1:], data.iloc[:,0], cv  = cv_split)\n",
    "GBC.fit(data.iloc[:,1:], data.iloc[:,0])\n",
    "\n",
    "print('AFTER DT Parameters: ', GBC.get_params())\n",
    "print(\"AFTER DT Training w/bin score mean: {:.2f}\". format(base_results['train_score'].mean()*100)) \n",
    "print(\"AFTER DT Test w/bin score mean: {:.2f}\". format(base_results['test_score'].mean()*100))"
   ]
  },
  {
   "cell_type": "code",
   "execution_count": 22,
   "metadata": {},
   "outputs": [],
   "source": [
    "# import sklearn.feature_selection as feature_selection\n",
    "# #feature selection\n",
    "# GBC_rfe = feature_selection.RFECV(GBC, step = 1, scoring = 'accuracy', cv = cv_split)\n",
    "# GBC_rfe.fit(data.iloc[:,1:], data.iloc[:,0])\n",
    "\n",
    "# X_rfe = data[data.iloc[:,1:]].columns.values[GBC_rfe.get_support()]\n",
    "# rfe_results = model_selection.cross_validate(GBC_rfe, data[X_rfe], data[:,0], cv  = cv_split)\n",
    "\n",
    "# print(\"AFTER DT RFE Training w/bin score mean: {:.2f}\". format(rfe_results['train_score'].mean()*100)) \n",
    "# print(\"AFTER DT RFE Test w/bin score mean: {:.2f}\". format(rfe_results['test_score'].mean()*100))"
   ]
  },
  {
   "cell_type": "markdown",
   "metadata": {},
   "source": [
    "## PARAMETERS FINETUNING\n",
    "## DecisionTreeClassifier"
   ]
  },
  {
   "cell_type": "code",
   "execution_count": 23,
   "metadata": {},
   "outputs": [
    {
     "name": "stdout",
     "output_type": "stream",
     "text": [
      "BEFORE DT Parameters:  {'min_weight_fraction_leaf': 0.0, 'min_impurity_decrease': 0.0, 'min_samples_split': 2, 'max_leaf_nodes': None, 'splitter': 'best', 'min_samples_leaf': 1, 'max_features': None, 'presort': False, 'random_state': 0, 'max_depth': None, 'min_impurity_split': None, 'class_weight': None, 'criterion': 'gini'}\n",
      "BEFORE DT Training w/bin score mean: 90.58\n",
      "BEFORE DT Test w/bin score mean: 78.54\n",
      "----------\n"
     ]
    },
    {
     "name": "stderr",
     "output_type": "stream",
     "text": [
      "E:\\py\\envs\\tf-keras\\lib\\site-packages\\sklearn\\utils\\deprecation.py:122: FutureWarning: You are accessing a training score ('train_score'), which will not be available by default any more in 0.21. If you need training scores, please set return_train_score=True\n",
      "  warnings.warn(*warn_args, **warn_kwargs)\n"
     ]
    }
   ],
   "source": [
    "#base model\n",
    "DTREE = tree.DecisionTreeClassifier(random_state = 0)\n",
    "base_results = model_selection.cross_validate(DTREE, data.iloc[:,1:], data.iloc[:,0], cv  = cv_split)\n",
    "DTREE.fit(data.iloc[:,1:], data.iloc[:,0])\n",
    "\n",
    "print('BEFORE DT Parameters: ', DTREE.get_params())\n",
    "print(\"BEFORE DT Training w/bin score mean: {:.2f}\". format(base_results['train_score'].mean()*100)) \n",
    "print(\"BEFORE DT Test w/bin score mean: {:.2f}\". format(base_results['test_score'].mean()*100))\n",
    "print('-'*10)\n"
   ]
  },
  {
   "cell_type": "markdown",
   "metadata": {},
   "source": [
    "### Max Depth\n",
    "#### optimum: 4"
   ]
  },
  {
   "cell_type": "code",
   "execution_count": 24,
   "metadata": {},
   "outputs": [
    {
     "data": {
      "image/png": "[encoded data removed]",
      "text/plain": [
       "<matplotlib.figure.Figure at 0x8f0ccf6518>"
      ]
     },
     "metadata": {},
     "output_type": "display_data"
    },
    {
     "name": "stdout",
     "output_type": "stream",
     "text": [
      "[0.7547619047619047, 0.7547619047619047, 0.7952380952380952, 0.7628571428571429, 0.7757142857142857, 0.7626190476190478, 0.7747619047619048, 0.7338095238095238, 0.7358333333333333, 0.7267857142857144, 0.7538095238095239, 0.7528571428571429, 0.7588095238095238, 0.7588095238095238, 0.7338095238095238, 0.7338095238095238, 0.7238095238095238, 0.7558333333333332, 0.7558333333333332, 0.7347619047619048, 0.7508333333333334, 0.7367857142857143, 0.7288095238095239, 0.7258333333333333, 0.7588095238095238, 0.7338095238095238, 0.7438095238095238, 0.7288095238095239, 0.7417857142857144, 0.7588095238095238, 0.7367857142857143, 0.7528571428571429]\n"
     ]
    }
   ],
   "source": [
    "max_depths = np.linspace(1, 32, 32, endpoint=True)\n",
    "train_results = []\n",
    "test_results = []\n",
    "for eta in max_depths:\n",
    "    model = tree.DecisionTreeClassifier(max_depth=eta)\n",
    "    model.fit(X_train, y_train)\n",
    "    train_pred = model.predict(X_train)\n",
    "    false_positive_rate, true_positive_rate, thresholds = roc_curve(y_train, train_pred)\n",
    "    roc_auc = auc(false_positive_rate, true_positive_rate)\n",
    "    train_results.append(roc_auc)\n",
    "    y_pred = model.predict(X_test)\n",
    "    false_positive_rate, true_positive_rate, thresholds = roc_curve(y_test, y_pred)\n",
    "    roc_auc = auc(false_positive_rate, true_positive_rate)\n",
    "    test_results.append(roc_auc)\n",
    "\n",
    "from matplotlib.legend_handler import HandlerLine2D\n",
    "line1, = plt.plot(max_depths, train_results, 'b', label=\"Train AUC\")\n",
    "line2, = plt.plot(max_depths, test_results, 'r', label=\"Test AUC\")\n",
    "plt.legend(handler_map={line1: HandlerLine2D(numpoints=2)})\n",
    "plt.ylabel(\"AUC score\")\n",
    "plt.xlabel(\"max_depths\")\n",
    "plt.show()\n",
    "\n",
    "print(test_results)"
   ]
  },
  {
   "cell_type": "code",
   "execution_count": 25,
   "metadata": {},
   "outputs": [
    {
     "name": "stdout",
     "output_type": "stream",
     "text": [
      "BEFORE DT Parameters:  {'min_weight_fraction_leaf': 0.0, 'min_impurity_decrease': 0.0, 'min_samples_split': 2, 'max_leaf_nodes': None, 'splitter': 'best', 'min_samples_leaf': 1, 'max_features': None, 'presort': False, 'random_state': 0, 'max_depth': 4, 'min_impurity_split': None, 'class_weight': {0: 1, 1: 1.45}, 'criterion': 'entropy'}\n",
      "BEFORE DT Training w/bin score mean: 81.72\n",
      "BEFORE DT Test w/bin score mean: 79.02\n",
      "----------\n"
     ]
    },
    {
     "name": "stderr",
     "output_type": "stream",
     "text": [
      "E:\\py\\envs\\tf-keras\\lib\\site-packages\\sklearn\\utils\\deprecation.py:122: FutureWarning: You are accessing a training score ('train_score'), which will not be available by default any more in 0.21. If you need training scores, please set return_train_score=True\n",
      "  warnings.warn(*warn_args, **warn_kwargs)\n"
     ]
    }
   ],
   "source": [
    "class_weight = {0: 1,\n",
    "                1: 1.45}\n",
    "DTREE = tree.DecisionTreeClassifier(random_state = 0, max_depth=4, criterion ='entropy', class_weight=class_weight ) \n",
    "base_results = model_selection.cross_validate(DTREE, data.iloc[:,1:], data.iloc[:,0], cv  = cv_split)\n",
    "DTREE.fit(data.iloc[:,1:], data.iloc[:,0])\n",
    "\n",
    "print('BEFORE DT Parameters: ', DTREE.get_params())\n",
    "print(\"BEFORE DT Training w/bin score mean: {:.2f}\". format(base_results['train_score'].mean()*100)) \n",
    "print(\"BEFORE DT Test w/bin score mean: {:.2f}\". format(base_results['test_score'].mean()*100))\n",
    "print('-'*10)\n"
   ]
  },
  {
   "cell_type": "markdown",
   "metadata": {},
   "source": [
    "### CNN"
   ]
  },
  {
   "cell_type": "code",
   "execution_count": 26,
   "metadata": {},
   "outputs": [
    {
     "name": "stdout",
     "output_type": "stream",
     "text": [
      "(9, 1)\n"
     ]
    }
   ],
   "source": [
    "X_train = np.expand_dims(X_train, axis=2)\n",
    "\n",
    "print(X_train.shape[1:])"
   ]
  },
  {
   "cell_type": "code",
   "execution_count": 27,
   "metadata": {},
   "outputs": [
    {
     "name": "stdout",
     "output_type": "stream",
     "text": [
      "_________________________________________________________________\n",
      "Layer (type)                 Output Shape              Param #   \n",
      "=================================================================\n",
      "conv1d_1 (Conv1D)            (None, 8, 48)             144       \n",
      "_________________________________________________________________\n",
      "dropout_1 (Dropout)          (None, 8, 48)             0         \n",
      "_________________________________________________________________\n",
      "conv1d_2 (Conv1D)            (None, 7, 24)             2328      \n",
      "_________________________________________________________________\n",
      "max_pooling1d_1 (MaxPooling1 (None, 3, 24)             0         \n",
      "_________________________________________________________________\n",
      "flatten_1 (Flatten)          (None, 72)                0         \n",
      "_________________________________________________________________\n",
      "dense_1 (Dense)              (None, 12)                876       \n",
      "_________________________________________________________________\n",
      "dense_2 (Dense)              (None, 24)                312       \n",
      "_________________________________________________________________\n",
      "dense_3 (Dense)              (None, 1)                 25        \n",
      "=================================================================\n",
      "Total params: 3,685\n",
      "Trainable params: 3,685\n",
      "Non-trainable params: 0\n",
      "_________________________________________________________________\n",
      "None\n"
     ]
    }
   ],
   "source": [
    "# #setup classifier model\n",
    "\n",
    "# classifier = Sequential()\n",
    "# #First Hidden Layer\n",
    "# classifier.add(Dense(10, activation='relu', kernel_initializer='random_normal',input_dim=6))\n",
    "\n",
    "# #Middle  Hidden Layer\n",
    "# classifier.add(Dense(15, activation='relu', kernel_initializer='random_normal'))\n",
    "\n",
    "# #Output Layer\n",
    "# classifier.add(Dense(1, activation='sigmoid', kernel_initializer='random_normal'))\n",
    "\n",
    "model = tf.keras.models.Sequential()\n",
    "\n",
    "model.add(tf.keras.layers.Conv1D(filters=48, kernel_size=2, activation='relu', input_shape=X_train.shape[1:]))\n",
    "model.add(tf.keras.layers.Dropout(0.25))\n",
    "\n",
    "model.add(tf.keras.layers.Conv1D(filters=24, kernel_size=2, activation='relu'))\n",
    "model.add(tf.keras.layers.MaxPooling1D(pool_size=2))\n",
    "\n",
    "model.add(tf.keras.layers.Flatten())\n",
    "model.add(tf.keras.layers.Dense(12, activation='sigmoid', kernel_initializer='random_normal'))\n",
    "model.add(tf.keras.layers.Dense(24, activation='sigmoid', kernel_initializer='random_normal'))\n",
    "model.add(tf.keras.layers.Dense(1, activation='sigmoid', kernel_initializer='random_normal'))\n",
    "\n",
    "print(model.summary())\n"
   ]
  },
  {
   "cell_type": "code",
   "execution_count": 28,
   "metadata": {},
   "outputs": [],
   "source": [
    "model.compile(optimizer ='adam',loss='binary_crossentropy', metrics =['accuracy'])"
   ]
  },
  {
   "cell_type": "code",
   "execution_count": 29,
   "metadata": {},
   "outputs": [],
   "source": [
    "class_weight = {0: 1,\n",
    "                1: 1.45}\n",
    "#model.fit(X_train,y_train, batch_size=10, epochs=250, class_weight=class_weight)\n"
   ]
  },
  {
   "cell_type": "code",
   "execution_count": 30,
   "metadata": {},
   "outputs": [],
   "source": [
    "# eval_model=model.evaluate(X_train, y_train)\n",
    "# eval_model\n",
    "\n",
    "# print(\"Training Accuracy: \", eval_model[1]*100, \"%\")"
   ]
  },
  {
   "cell_type": "code",
   "execution_count": 31,
   "metadata": {},
   "outputs": [
    {
     "name": "stdout",
     "output_type": "stream",
     "text": [
      "Confusion Matrix:  [[  0 168]\n",
      " [  0 100]]\n",
      "Testing Accuracy:  37.3134328358209 %\n"
     ]
    }
   ],
   "source": [
    "y_pred=model.predict(np.expand_dims(X_test, axis=2))\n",
    "y_pred =(y_pred>0.5)\n",
    "\n",
    "from sklearn.metrics import confusion_matrix\n",
    "cm = confusion_matrix(y_test, y_pred)\n",
    "print(\"Confusion Matrix: \",cm)\n",
    "\n",
    "\n",
    "print(\"Testing Accuracy: \", (cm[0][0]+cm[1][1])*100/sum(sum(cm)),\"%\")"
   ]
  },
  {
   "cell_type": "code",
   "execution_count": 32,
   "metadata": {},
   "outputs": [],
   "source": [
    "data = pd.read_csv('test.csv')\n",
    "\n",
    "data= data.drop(\"PassengerId\", axis=1)\n",
    "data= data.drop(\"Ticket\", axis=1)\n",
    "\n",
    "data[\"Pclass\"] = data[\"Pclass\"].fillna(3)\n",
    "\n",
    "dataset_title = [i.split(\",\")[1].split(\".\")[0].strip() for i in data[\"Name\"]]\n",
    "data[\"Title\"] = pd.Series(dataset_title)\n",
    "\n",
    "#merge similiar titles\n",
    "data[\"Title\"] = data[\"Title\"].replace(['Miss', 'Mlle'], 'Ms')\n",
    "data[\"Title\"] = data[\"Title\"].replace(['Mme', 'Mlle'], 'Mrs')\n",
    "data[\"Title\"] = data[\"Title\"].replace(['Master', 'Sir'], 'Mr')\n",
    "data[\"Title\"] = data[\"Title\"].replace(['Lady', 'the Countess','Countess','Capt', 'Col','Don', 'Dr', 'Major', 'Rev', 'Sir', 'Jonkheer', 'Dona'], 'Rare')\n",
    "data['Title'].replace( 'Ms',0,inplace=True)\n",
    "data['Title'].replace( 'Mr',1,inplace=True)\n",
    "data['Title'].replace( 'Mrs',2,inplace=True)\n",
    "data['Title'].replace( 'Rare',3,inplace=True)\n",
    "\n",
    "data= data.drop(\"Name\", axis=1)\n",
    "\n",
    "data['Sex'].replace( 'female',1,inplace=True)\n",
    "data['Sex'].replace( 'male',0,inplace=True)\n",
    "data[\"Sex\"] = data[\"Sex\"].fillna(0)\n",
    "\n",
    "ages = dict([(n, int(0)) for n in range(0, 18)] +\n",
    "            [(n, int(1)) for n in range(18, 35)] +\n",
    "            [(n, int(2)) for n in range(35, 50)] +\n",
    "            [(n, int(3)) for n in range(50, 70)] +\n",
    "            [(n, int(4)) for n in range(70, 1000)] )\n",
    "data['Age'] = data['Age'].apply(ages.get)\n",
    "data[\"Age\"] = data[\"Age\"].fillna(data[\"Age\"].median())\n",
    "\n",
    "data[\"Fare\"] = data[\"Fare\"].fillna(data[\"Fare\"].median())\n",
    "data[\"Fare\"] = data[\"Fare\"].map(lambda i: np.log(i) if i > 0 else 0)\n",
    "data[\"Fare\"] = data[\"Fare\"].astype(int)\n",
    "fares = dict([(n, int(0)) for n in range(0, 2)] +\n",
    "            [(n, int(1)) for n in range(2, 4)] +\n",
    "            [(n, int(2)) for n in range(4,7)] )\n",
    "data['Fare'] = data['Fare'].apply(fares.get)\n",
    "\n",
    "data[\"Embarked\"] = data[\"Embarked\"].fillna(0)\n",
    "data['Embarked'].replace( 'S',0,inplace=True)\n",
    "data['Embarked'].replace( 'C',1,inplace=True)\n",
    "data['Embarked'].replace( 'Q',2,inplace=True)\n",
    "\n",
    "data[\"Cabin\"] = pd.Series([i[0] if not pd.isnull(i) else 'X' for i in data['Cabin'] ])\n",
    "data['Cabin'].replace( 'A',0,inplace=True)\n",
    "data['Cabin'].replace( 'B',1,inplace=True)\n",
    "data['Cabin'].replace( 'C',2,inplace=True)\n",
    "data['Cabin'].replace( 'D',3,inplace=True)\n",
    "data['Cabin'].replace( 'E',4,inplace=True)\n",
    "data['Cabin'].replace( 'F',5,inplace=True)\n",
    "data['Cabin'].replace( 'G',6,inplace=True)\n",
    "data['Cabin'].replace( 'T',7,inplace=True)\n",
    "data['Cabin'].replace( 'X',8,inplace=True)\n",
    "\n",
    "\n",
    "\n",
    "# data = data.fillna(-1)\n",
    "\n",
    "#standardize my data\n",
    "# sc = StandardScaler()\n",
    "# data = sc.fit_transform(data)\n",
    "\n",
    "# data\n"
   ]
  },
  {
   "cell_type": "code",
   "execution_count": 33,
   "metadata": {},
   "outputs": [
    {
     "name": "stdout",
     "output_type": "stream",
     "text": [
      "     PassengerId  Survived\n",
      "0            892         0\n",
      "1            893         0\n",
      "2            894         0\n",
      "3            895         0\n",
      "4            896         0\n",
      "5            897         0\n",
      "6            898         1\n",
      "7            899         0\n",
      "8            900         1\n",
      "9            901         0\n",
      "10           902         0\n",
      "11           903         0\n",
      "12           904         1\n",
      "13           905         0\n",
      "14           906         1\n",
      "15           907         1\n",
      "16           908         0\n",
      "17           909         0\n",
      "18           910         0\n",
      "19           911         1\n",
      "20           912         0\n",
      "21           913         0\n",
      "22           914         1\n",
      "23           915         0\n",
      "24           916         1\n",
      "25           917         0\n",
      "26           918         1\n",
      "27           919         0\n",
      "28           920         0\n",
      "29           921         0\n",
      "..           ...       ...\n",
      "388         1280         0\n",
      "389         1281         0\n",
      "390         1282         0\n",
      "391         1283         1\n",
      "392         1284         0\n",
      "393         1285         0\n",
      "394         1286         0\n",
      "395         1287         1\n",
      "396         1288         0\n",
      "397         1289         1\n",
      "398         1290         0\n",
      "399         1291         0\n",
      "400         1292         1\n",
      "401         1293         0\n",
      "402         1294         1\n",
      "403         1295         0\n",
      "404         1296         1\n",
      "405         1297         0\n",
      "406         1298         0\n",
      "407         1299         0\n",
      "408         1300         1\n",
      "409         1301         0\n",
      "410         1302         1\n",
      "411         1303         1\n",
      "412         1304         0\n",
      "413         1305         0\n",
      "414         1306         1\n",
      "415         1307         0\n",
      "416         1308         0\n",
      "417         1309         0\n",
      "\n",
      "[418 rows x 2 columns]\n"
     ]
    }
   ],
   "source": [
    "# test_pred = model.predict(np.expand_dims(data, axis=2))\n",
    "# test_pred=(test_pred>0.5).astype(int)\n",
    "\n",
    "# test_pred = random_forest.predict(data)\n",
    "# test_pred =(test_pred>0.5).astype(int)\n",
    "\n",
    "test_pred = GBC.predict(data)\n",
    "test_pred =(test_pred>0.5).astype(int)\n",
    "\n",
    "\n",
    "submission = pd.DataFrame()\n",
    "submission['PassengerId'] = range(892, (len(test_pred)+892))\n",
    "submission['Survived'] = test_pred\n",
    "\n",
    "print(submission)\n",
    "\n",
    "# print(test.shape)"
   ]
  },
  {
   "cell_type": "code",
   "execution_count": 34,
   "metadata": {},
   "outputs": [],
   "source": [
    "submission.to_csv(\"submission.csv\", index=False)"
   ]
  },
  {
   "cell_type": "code",
   "execution_count": null,
   "metadata": {},
   "outputs": [],
   "source": []
  }
 ],
 "metadata": {
  "kernelspec": {
   "display_name": "Python 3",
   "language": "python",
   "name": "python3"
  },
  "language_info": {
   "codemirror_mode": {
    "name": "ipython",
    "version": 3
   },
   "file_extension": ".py",
   "mimetype": "text/x-python",
   "name": "python",
   "nbconvert_exporter": "python",
   "pygments_lexer": "ipython3",
   "version": "3.5.4"
  }
 },
 "nbformat": 4,
 "nbformat_minor": 2
}
